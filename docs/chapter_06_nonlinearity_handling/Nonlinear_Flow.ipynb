{
 "cells": [
  {
   "cell_type": "code",
   "execution_count": 8,
   "id": "41dcaa8b-bce6-4f5c-b1e8-4d8184f6de17",
   "metadata": {},
   "outputs": [],
   "source": [
    "import numpy as np"
   ]
  },
  {
   "cell_type": "markdown",
   "id": "476785ac-f2e3-483d-bbbf-61a534b7c005",
   "metadata": {},
   "source": [
    "# Grid Properties"
   ]
  },
  {
   "cell_type": "code",
   "execution_count": 2,
   "id": "fd1f4d02-3fda-406f-b1b6-cf91760fa300",
   "metadata": {},
   "outputs": [],
   "source": [
    "N, L = 4, 1."
   ]
  },
  {
   "cell_type": "code",
   "execution_count": 3,
   "id": "daac6baf-4bef-49d5-adaa-8a79f1ba4851",
   "metadata": {},
   "outputs": [],
   "source": [
    "dx = L/N"
   ]
  },
  {
   "cell_type": "code",
   "execution_count": 4,
   "id": "3ca052e8-5833-4298-beab-4200164e6bff",
   "metadata": {},
   "outputs": [
    {
     "data": {
      "text/plain": [
       "0.25"
      ]
     },
     "execution_count": 4,
     "metadata": {},
     "output_type": "execute_result"
    }
   ],
   "source": [
    "dx"
   ]
  },
  {
   "cell_type": "code",
   "execution_count": 5,
   "id": "3d891a48-9700-4cb1-bf09-0dde02de70ab",
   "metadata": {},
   "outputs": [],
   "source": [
    "area = 0.02"
   ]
  },
  {
   "cell_type": "markdown",
   "id": "17c44501-2a32-4d64-a638-5ef8dba8e0f5",
   "metadata": {},
   "source": [
    "# Reservoir Properties"
   ]
  },
  {
   "cell_type": "code",
   "execution_count": 6,
   "id": "34b01cea-2761-4026-b576-fe12a8b52af7",
   "metadata": {},
   "outputs": [],
   "source": [
    "perm = 50\n",
    "poro = 0.2"
   ]
  },
  {
   "cell_type": "markdown",
   "id": "961498b1-4511-4e01-be1e-964017cc22eb",
   "metadata": {},
   "source": [
    "# Fluid Property"
   ]
  },
  {
   "cell_type": "code",
   "execution_count": 7,
   "id": "6b856fff-2ff1-4a8d-aeba-6dc9df209de8",
   "metadata": {},
   "outputs": [],
   "source": [
    "visc = 0.01\n",
    "\n",
    "def comp(pressure):\n",
    "    return 1./pressure"
   ]
  },
  {
   "cell_type": "code",
   "execution_count": 9,
   "id": "88cdc73a-e7b6-4a3e-87b3-66793b039133",
   "metadata": {},
   "outputs": [],
   "source": [
    "PL = 200\n",
    "PR = 14.7\n",
    "Pinit = np.full(N,14.7)"
   ]
  },
  {
   "cell_type": "code",
   "execution_count": 10,
   "id": "61daca18-285e-473b-a1aa-545b67199ecf",
   "metadata": {},
   "outputs": [
    {
     "data": {
      "text/plain": [
       "array([14.7, 14.7, 14.7, 14.7])"
      ]
     },
     "execution_count": 10,
     "metadata": {},
     "output_type": "execute_result"
    }
   ],
   "source": [
    "Pinit"
   ]
  },
  {
   "cell_type": "markdown",
   "id": "ed6ee523-1d7f-434c-94d7-0c37eb35ed1d",
   "metadata": {},
   "source": [
    "# Numerical Settings"
   ]
  },
  {
   "cell_type": "code",
   "execution_count": 11,
   "id": "1dbfcd7c-03f5-4e12-a5ea-8bf5ecbcc791",
   "metadata": {},
   "outputs": [],
   "source": [
    "tstep = 1e-5"
   ]
  },
  {
   "cell_type": "code",
   "execution_count": 12,
   "id": "5f845844-b354-4c14-a1a6-07591ee6885a",
   "metadata": {},
   "outputs": [],
   "source": [
    "nstep = 3"
   ]
  },
  {
   "cell_type": "markdown",
   "id": "8745457d-6fbf-446c-a138-aaf0cc2e38b0",
   "metadata": {},
   "source": [
    "# Block Calculations"
   ]
  },
  {
   "cell_type": "code",
   "execution_count": 77,
   "id": "5e1629c2-6df6-47c7-b062-63b2dd80bb67",
   "metadata": {},
   "outputs": [],
   "source": [
    "conv1 = 1.06235016e-14*0.3048/0.001\n",
    "conv3 = 1.06235016e-14/1.4503774389728e-7*24*60*60"
   ]
  },
  {
   "cell_type": "code",
   "execution_count": 78,
   "id": "9d44ef79-48a0-4c50-8d54-74691b7eda4a",
   "metadata": {},
   "outputs": [],
   "source": [
    "trans = perm*area/dx/visc*conv3"
   ]
  },
  {
   "cell_type": "code",
   "execution_count": 91,
   "id": "55ca4479-4fb5-4e25-80bf-28910567a4f3",
   "metadata": {},
   "outputs": [],
   "source": [
    "T = np.zeros((N,N))\n",
    "J = np.zeros((N,N))\n",
    "Q = np.zeros((N,1))\n",
    "\n",
    "for i in range(N):\n",
    "    if i==0:\n",
    "        T[i,i] = trans\n",
    "        T[i,i+1] = -trans\n",
    "        J[i,i] = 2*trans\n",
    "        Q[i,0] = 2*trans*PL\n",
    "    elif i==N-1:\n",
    "        T[i,i] = trans\n",
    "        T[i,i-1] = -trans\n",
    "        J[i,i] = 2*trans\n",
    "        Q[i,0] = 2*trans*PR\n",
    "    else:\n",
    "        T[i,i] = 2*trans\n",
    "        T[i,i-1] = -trans\n",
    "        T[i,i+1] = -trans"
   ]
  },
  {
   "cell_type": "code",
   "execution_count": 99,
   "id": "e519b125-5c1a-40d0-b5f2-c22a021987f1",
   "metadata": {},
   "outputs": [],
   "source": [
    "def storage(pressure):\n",
    "    A = np.zeros((N,N))\n",
    "    accum = area*poro*dx*comp(pressure)/tstep\n",
    "    for i in range(N):\n",
    "        A[i,i] = accum[i]\n",
    "    return A"
   ]
  },
  {
   "cell_type": "code",
   "execution_count": 100,
   "id": "fb0edb0c-abfc-408e-b51e-6a3498f2bd4c",
   "metadata": {},
   "outputs": [
    {
     "data": {
      "text/plain": [
       "array([[6.80272109, 0.        , 0.        , 0.        ],\n",
       "       [0.        , 6.80272109, 0.        , 0.        ],\n",
       "       [0.        , 0.        , 6.80272109, 0.        ],\n",
       "       [0.        , 0.        , 0.        , 6.80272109]])"
      ]
     },
     "execution_count": 100,
     "metadata": {},
     "output_type": "execute_result"
    }
   ],
   "source": [
    "storage(Pinit)"
   ]
  },
  {
   "cell_type": "code",
   "execution_count": 94,
   "id": "f489254b-eb09-497b-8d98-26b5158c5a4c",
   "metadata": {},
   "outputs": [
    {
     "data": {
      "text/plain": [
       "array([[5.06279545, 0.        , 0.        , 0.        ],\n",
       "       [0.        , 0.        , 0.        , 0.        ],\n",
       "       [0.        , 0.        , 0.        , 0.        ],\n",
       "       [0.        , 0.        , 0.        , 5.06279545]])"
      ]
     },
     "execution_count": 94,
     "metadata": {},
     "output_type": "execute_result"
    }
   ],
   "source": [
    "J"
   ]
  },
  {
   "cell_type": "code",
   "execution_count": 95,
   "id": "6025daa3-af9a-446c-b1c9-2c98dcf812e0",
   "metadata": {},
   "outputs": [
    {
     "data": {
      "text/plain": [
       "array([[6.80272109, 0.        , 0.        , 0.        ],\n",
       "       [0.        , 6.80272109, 0.        , 0.        ],\n",
       "       [0.        , 0.        , 6.80272109, 0.        ],\n",
       "       [0.        , 0.        , 0.        , 6.80272109]])"
      ]
     },
     "execution_count": 95,
     "metadata": {},
     "output_type": "execute_result"
    }
   ],
   "source": [
    "A"
   ]
  },
  {
   "cell_type": "code",
   "execution_count": 118,
   "id": "c36bdb20-0c29-4b55-b328-641ba1401df5",
   "metadata": {},
   "outputs": [
    {
     "name": "stdout",
     "output_type": "stream",
     "text": [
      "1 938.135997792843\n",
      "2 382.90288849687494\n",
      "3 78.45722872411923\n",
      "4 24.749252903844766\n",
      "5 8.887181108343485\n",
      "6 3.247652151919296\n",
      "7 1.1801584783961532\n",
      "8 0.42631294878456333\n",
      "9 0.1535034555127361\n",
      "10 0.055189741900053865\n",
      "11 0.019829475796517445\n",
      "12 0.007122604310859925\n",
      "13 0.002558067035417075\n",
      "14 0.0009186737312152341\n",
      "15 0.00032991367396556314\n",
      "16 0.0001184772046922548\n",
      "17 4.254683827470127e-05\n",
      "18 1.5279139972343016e-05\n",
      "19 5.486939051706792e-06\n",
      "20 1.9704309057754455e-06\n",
      "21 7.076071010690716e-07\n"
     ]
    }
   ],
   "source": [
    "P = Pinit.copy()\n",
    "\n",
    "for t in range(nstep):\n",
    "    Pk = P.copy()\n",
    "    for k in range(100):\n",
    "        A = storage(Pk)\n",
    "        F = -np.matmul((T+J+A),Pk)+np.matmul(A,P)+Q.flatten()\n",
    "        R = np.linalg.norm(F); print(k+1,R)\n",
    "        if R<1e-6:\n",
    "            break\n",
    "        Pk = np.linalg.solve((A+T+J),(np.matmul(A,P)+Q.flatten()))\n",
    "        # print(Pk)\n",
    "    P = Pk.copy()\n",
    "    break"
   ]
  },
  {
   "cell_type": "code",
   "execution_count": 109,
   "id": "a3afde59-7aba-4113-85f4-d6a018516624",
   "metadata": {},
   "outputs": [
    {
     "data": {
      "text/plain": [
       "array([[0.56549092, 0.        , 0.        , 0.        ],\n",
       "       [0.        , 0.76621013, 0.        , 0.        ],\n",
       "       [0.        , 0.        , 1.1878248 , 0.        ],\n",
       "       [0.        , 0.        , 0.        , 2.6411357 ]])"
      ]
     },
     "execution_count": 109,
     "metadata": {},
     "output_type": "execute_result"
    }
   ],
   "source": [
    "A"
   ]
  },
  {
   "cell_type": "code",
   "execution_count": 39,
   "id": "502d5758-093d-4e01-a161-478a67ab439d",
   "metadata": {},
   "outputs": [],
   "source": []
  },
  {
   "cell_type": "code",
   "execution_count": null,
   "id": "bcdf94ac-467f-486e-b174-4bc7cebbe8b6",
   "metadata": {},
   "outputs": [],
   "source": []
  },
  {
   "cell_type": "code",
   "execution_count": null,
   "id": "941f4629-16b3-42ce-9cca-eec3b28a732a",
   "metadata": {},
   "outputs": [],
   "source": []
  }
 ],
 "metadata": {
  "kernelspec": {
   "display_name": "Python 3 (ipykernel)",
   "language": "python",
   "name": "python3"
  },
  "language_info": {
   "codemirror_mode": {
    "name": "ipython",
    "version": 3
   },
   "file_extension": ".py",
   "mimetype": "text/x-python",
   "name": "python",
   "nbconvert_exporter": "python",
   "pygments_lexer": "ipython3",
   "version": "3.12.3"
  }
 },
 "nbformat": 4,
 "nbformat_minor": 5
}
