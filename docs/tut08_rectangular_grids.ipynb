{
 "cells": [
  {
   "cell_type": "code",
   "execution_count": 25,
   "id": "e1b92ee6-73d3-40ae-8463-e98bd435e72b",
   "metadata": {},
   "outputs": [],
   "source": [
    "import matplotlib.pyplot as plt"
   ]
  },
  {
   "cell_type": "code",
   "execution_count": 2,
   "id": "8385ebef-0d6f-4297-9639-06798a69ffe1",
   "metadata": {},
   "outputs": [],
   "source": [
    "import numpy as np"
   ]
  },
  {
   "cell_type": "code",
   "execution_count": 1,
   "id": "f2c50540-8318-4f69-92be-eac5ff37991c",
   "metadata": {},
   "outputs": [],
   "source": [
    "from gmodel import grid"
   ]
  },
  {
   "cell_type": "code",
   "execution_count": 3,
   "id": "cf7e8766-4bd7-4f97-bf69-be4075af3324",
   "metadata": {},
   "outputs": [],
   "source": [
    "xdelta = np.array([750,1000,1250])\n",
    "ydelta = np.array([750,1000,1250])\n",
    "zdelta = 20"
   ]
  },
  {
   "cell_type": "code",
   "execution_count": 8,
   "id": "a8985bd6-ab4b-4362-b8b6-ace72113f71b",
   "metadata": {},
   "outputs": [],
   "source": [
    "delta = grid.GridDelta(xdelta,ydelta,zdelta)"
   ]
  },
  {
   "cell_type": "code",
   "execution_count": 12,
   "id": "9a4808b1-47c6-4e7b-9849-26546bdf6202",
   "metadata": {},
   "outputs": [
    {
     "name": "stdout",
     "output_type": "stream",
     "text": [
      "['__class__', '__delattr__', '__dict__', '__dir__', '__doc__', '__eq__', '__format__', '__ge__', '__getattribute__', '__getstate__', '__gt__', '__hash__', '__init__', '__init_subclass__', '__le__', '__lt__', '__module__', '__ne__', '__new__', '__reduce__', '__reduce_ex__', '__repr__', '__setattr__', '__sizeof__', '__str__', '__subclasshook__', '__weakref__', '_depths', '_dims', '_height', '_length', '_width', '_xdelta', '_ydelta', '_zdelta', 'center', 'depths', 'dims', 'grids', 'height', 'index', 'length', 'midpoints', 'nums', 'table', 'width', 'xcenter', 'xdelta', 'xnums', 'ycenter', 'ydelta', 'ynums', 'zcenter', 'zdelta', 'znums']\n"
     ]
    }
   ],
   "source": [
    "print(dir(delta))"
   ]
  },
  {
   "cell_type": "code",
   "execution_count": 15,
   "id": "0592700b-f582-4aca-9316-dddc85b581e2",
   "metadata": {},
   "outputs": [
    {
     "data": {
      "text/plain": [
       "array([ 750., 1000., 1250.])"
      ]
     },
     "execution_count": 15,
     "metadata": {},
     "output_type": "execute_result"
    }
   ],
   "source": [
    "delta.xdelta"
   ]
  },
  {
   "cell_type": "code",
   "execution_count": 16,
   "id": "995b13a5-cce9-4e53-95bd-414b5bb33986",
   "metadata": {},
   "outputs": [
    {
     "data": {
      "text/plain": [
       "array([ 750., 1000., 1250.])"
      ]
     },
     "execution_count": 16,
     "metadata": {},
     "output_type": "execute_result"
    }
   ],
   "source": [
    "delta.ydelta"
   ]
  },
  {
   "cell_type": "code",
   "execution_count": 17,
   "id": "636d81e6-0e63-494e-a313-2f9028474142",
   "metadata": {},
   "outputs": [
    {
     "data": {
      "text/plain": [
       "array([20.])"
      ]
     },
     "execution_count": 17,
     "metadata": {},
     "output_type": "execute_result"
    }
   ],
   "source": [
    "delta.zdelta"
   ]
  },
  {
   "cell_type": "code",
   "execution_count": 14,
   "id": "2fe337c8-e961-4f98-9b33-777c279d0906",
   "metadata": {},
   "outputs": [
    {
     "data": {
      "text/plain": [
       "2"
      ]
     },
     "execution_count": 14,
     "metadata": {},
     "output_type": "execute_result"
    }
   ],
   "source": [
    "delta.dims"
   ]
  },
  {
   "cell_type": "code",
   "execution_count": 19,
   "id": "89186d1c-6464-4aba-bc40-849f8d33a53a",
   "metadata": {},
   "outputs": [],
   "source": [
    "delta.center()"
   ]
  },
  {
   "cell_type": "code",
   "execution_count": 20,
   "id": "b014f139-a002-4624-be0c-38de67b3a02c",
   "metadata": {},
   "outputs": [
    {
     "data": {
      "text/plain": [
       "array([ 375., 1250., 2375.])"
      ]
     },
     "execution_count": 20,
     "metadata": {},
     "output_type": "execute_result"
    }
   ],
   "source": [
    "delta.xcenter"
   ]
  },
  {
   "cell_type": "code",
   "execution_count": 21,
   "id": "ce69659b-0d69-4e2f-94bc-031f536b915e",
   "metadata": {},
   "outputs": [
    {
     "data": {
      "text/plain": [
       "array([ 375., 1250., 2375.])"
      ]
     },
     "execution_count": 21,
     "metadata": {},
     "output_type": "execute_result"
    }
   ],
   "source": [
    "delta.ycenter"
   ]
  },
  {
   "cell_type": "code",
   "execution_count": 22,
   "id": "9929a40a-f940-43e3-b434-e4d7c5fcb261",
   "metadata": {},
   "outputs": [
    {
     "data": {
      "text/plain": [
       "array([10.])"
      ]
     },
     "execution_count": 22,
     "metadata": {},
     "output_type": "execute_result"
    }
   ],
   "source": [
    "delta.zcenter"
   ]
  },
  {
   "cell_type": "code",
   "execution_count": 13,
   "id": "38948b5c-f5d3-4f59-a508-205ec7f25990",
   "metadata": {},
   "outputs": [
    {
     "data": {
      "text/plain": [
       "array([[0, 1, 0, 3],\n",
       "       [0, 2, 1, 4],\n",
       "       [1, 2, 2, 5],\n",
       "       [3, 4, 0, 6],\n",
       "       [3, 5, 1, 7],\n",
       "       [4, 5, 2, 8],\n",
       "       [6, 7, 3, 6],\n",
       "       [6, 8, 4, 7],\n",
       "       [7, 8, 5, 8]])"
      ]
     },
     "execution_count": 13,
     "metadata": {},
     "output_type": "execute_result"
    }
   ],
   "source": [
    "delta.table"
   ]
  },
  {
   "cell_type": "code",
   "execution_count": 39,
   "id": "3e786a96-0c46-4941-bb65-d83a82e20699",
   "metadata": {},
   "outputs": [
    {
     "data": {
      "image/png": "[encoded data removed]",
      "text/plain": [
       "<Figure size 640x480 with 1 Axes>"
      ]
     },
     "metadata": {},
     "output_type": "display_data"
    }
   ],
   "source": [
    "plt.vlines(0,0,delta.width)\n",
    "for x in delta.xdelta.cumsum():\n",
    "    plt.vlines(x,0,delta.width)\n",
    "\n",
    "plt.hlines(0,0,delta.width)\n",
    "for y in delta.ydelta.cumsum():\n",
    "    plt.hlines(y,0,delta.length)\n",
    "\n",
    "for i in range(delta.xnums):\n",
    "    for j in range(delta.ynums):\n",
    "        plt.scatter(delta.xcenter[i],delta.ycenter[j],color='k')"
   ]
  },
  {
   "cell_type": "code",
   "execution_count": 38,
   "id": "87efe15d-ee3c-40c5-8ff0-5e50576b2d73",
   "metadata": {},
   "outputs": [
    {
     "data": {
      "text/plain": [
       "3"
      ]
     },
     "execution_count": 38,
     "metadata": {},
     "output_type": "execute_result"
    }
   ],
   "source": [
    "delta.xnums"
   ]
  },
  {
   "cell_type": "code",
   "execution_count": null,
   "id": "f1db0307-694c-4fdf-9946-30053d8875c6",
   "metadata": {},
   "outputs": [],
   "source": []
  }
 ],
 "metadata": {
  "kernelspec": {
   "display_name": "Python 3 (ipykernel)",
   "language": "python",
   "name": "python3"
  },
  "language_info": {
   "codemirror_mode": {
    "name": "ipython",
    "version": 3
   },
   "file_extension": ".py",
   "mimetype": "text/x-python",
   "name": "python",
   "nbconvert_exporter": "python",
   "pygments_lexer": "ipython3",
   "version": "3.12.3"
  }
 },
 "nbformat": 4,
 "nbformat_minor": 5
}
