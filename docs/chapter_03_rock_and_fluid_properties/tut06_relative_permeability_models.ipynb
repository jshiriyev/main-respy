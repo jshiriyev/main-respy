{
 "cells": [
  {
   "cell_type": "markdown",
   "id": "0a75f5c8-637e-4034-9d6a-f70c512d295f",
   "metadata": {},
   "source": [
    "Example 1.2 Three-phase relative permeability models.\n",
    "A three-phase water-oil-gas system is described by the following empirical parameters\n",
    "obtained from oil-water and oil-gas two-phase experiments, Swr ¼ 0.1,\n",
    "Sorw ¼ 0.4, Sorg ¼ 0.2, Sgr ¼ 0.05, krw\n",
    "0 ¼ 0.3, krow\n",
    "0 ¼ 0.8, krog\n",
    "0 ¼ 0.8, krg\n",
    "0 ¼ 0.3,\n",
    "Nw ¼ 2.0, Ng ¼ 2.0, Now ¼ 2.0, Nog ¼ 2.0. The two-phase relative permeability\n",
    "curves for oil-water and oil-gas are shown in Fig. 1.8.\n",
    "Compute three-phase relative permeabilities (krw, kro, krg) at Sw ¼ 0.3, So ¼ 0.5,\n",
    "Sg ¼ 0.2."
   ]
  },
  {
   "cell_type": "code",
   "execution_count": null,
   "id": "cb661e54-af93-42b0-9af4-25b35f478eab",
   "metadata": {},
   "outputs": [],
   "source": []
  }
 ],
 "metadata": {
  "kernelspec": {
   "display_name": "Python 3 (ipykernel)",
   "language": "python",
   "name": "python3"
  },
  "language_info": {
   "codemirror_mode": {
    "name": "ipython",
    "version": 3
   },
   "file_extension": ".py",
   "mimetype": "text/x-python",
   "name": "python",
   "nbconvert_exporter": "python",
   "pygments_lexer": "ipython3",
   "version": "3.12.4"
  }
 },
 "nbformat": 4,
 "nbformat_minor": 5
}
