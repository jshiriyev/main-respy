{
 "cells": [
  {
   "cell_type": "markdown",
   "id": "244fe392-8021-4843-837d-f5e786e87c73",
   "metadata": {},
   "source": [
    "Example 1.3 Capillary pressure curves.\n",
    "An oil-water system has a capillary entry pressure, pc,e ¼ 3.5 psi and l ¼ 2.0. The\n",
    "residual saturations are Swr ¼ 0.1, Sor ¼ 0.2. The capillary pressure data were\n",
    "measured for a 100 mD rock with 20% porosity and sow ¼ 20 dyn/cm.\n",
    "Estimate the capillary pressure at Sw ¼ 0.3 for a similar rock type but 50 mD,\n",
    "15% porosity, and sow ¼ 25 dyn/cm."
   ]
  },
  {
   "cell_type": "code",
   "execution_count": null,
   "id": "84f956e5-d067-4874-bf61-d893ffd28f7a",
   "metadata": {},
   "outputs": [],
   "source": []
  }
 ],
 "metadata": {
  "kernelspec": {
   "display_name": "Python 3 (ipykernel)",
   "language": "python",
   "name": "python3"
  },
  "language_info": {
   "codemirror_mode": {
    "name": "ipython",
    "version": 3
   },
   "file_extension": ".py",
   "mimetype": "text/x-python",
   "name": "python",
   "nbconvert_exporter": "python",
   "pygments_lexer": "ipython3",
   "version": "3.12.4"
  }
 },
 "nbformat": 4,
 "nbformat_minor": 5
}
