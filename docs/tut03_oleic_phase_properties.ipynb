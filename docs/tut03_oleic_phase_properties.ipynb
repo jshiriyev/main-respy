{
 "cells": [
  {
   "cell_type": "markdown",
   "id": "dce212a9-269e-498d-bb49-65c8c0d29993",
   "metadata": {},
   "source": [
    "# Oleic Phase Properties"
   ]
  },
  {
   "cell_type": "code",
   "execution_count": null,
   "id": "818d8312-ee03-4a93-8225-8adeba12deb3",
   "metadata": {},
   "outputs": [],
   "source": []
  }
 ],
 "metadata": {
  "kernelspec": {
   "display_name": "Python 3 (ipykernel)",
   "language": "python",
   "name": "python3"
  },
  "language_info": {
   "codemirror_mode": {
    "name": "ipython",
    "version": 3
   },
   "file_extension": ".py",
   "mimetype": "text/x-python",
   "name": "python",
   "nbconvert_exporter": "python",
   "pygments_lexer": "ipython3",
   "version": "3.12.4"
  }
 },
 "nbformat": 4,
 "nbformat_minor": 5
}
