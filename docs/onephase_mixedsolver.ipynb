{
 "cells": [
  {
   "cell_type": "code",
   "execution_count": 1,
   "id": "85eac284-bac7-415d-bc3b-099d6d82dbf8",
   "metadata": {},
   "outputs": [],
   "source": [
    "import matplotlib.pyplot as plt\n",
    "import numpy as np"
   ]
  },
  {
   "cell_type": "code",
   "execution_count": 4,
   "id": "6333fc24-9dba-4374-8c5e-f53055796169",
   "metadata": {},
   "outputs": [],
   "source": [
    "import sys\n",
    "sys.path.append(r'C:\\Users\\javid.shiriyev\\Documents\\respy')"
   ]
  },
  {
   "cell_type": "code",
   "execution_count": 5,
   "id": "c02c7987-31c5-4c08-b7b0-3503eb16096d",
   "metadata": {},
   "outputs": [],
   "source": [
    "from _grids import RecCuboid"
   ]
  },
  {
   "cell_type": "code",
   "execution_count": 23,
   "id": "47e63977-afd9-4046-a222-986e00747109",
   "metadata": {},
   "outputs": [],
   "source": [
    "from _solver import BoundCond\n",
    "from _solver import Matrix\n",
    "from _solver import OnePhase"
   ]
  },
  {
   "cell_type": "markdown",
   "id": "c6484bc4-84cd-4fc2-a6c9-d1cdbf8700ff",
   "metadata": {},
   "source": [
    "# Creating Grids"
   ]
  },
  {
   "cell_type": "code",
   "execution_count": 7,
   "id": "b7a63dcc-da7c-4dda-bddb-831e6caaed58",
   "metadata": {},
   "outputs": [],
   "source": [
    "grid = RecCuboid((750,1000,1250),(750,1000,1250),(20,))"
   ]
  },
  {
   "cell_type": "code",
   "execution_count": 8,
   "id": "d443544c-ba60-4de4-8b82-3d904db39a78",
   "metadata": {},
   "outputs": [
    {
     "data": {
      "text/plain": [
       "array([[ 750.],\n",
       "       [1000.],\n",
       "       [1250.],\n",
       "       [ 750.],\n",
       "       [1000.],\n",
       "       [1250.],\n",
       "       [ 750.],\n",
       "       [1000.],\n",
       "       [1250.]])"
      ]
     },
     "execution_count": 8,
     "metadata": {},
     "output_type": "execute_result"
    }
   ],
   "source": [
    "grid.xdims"
   ]
  },
  {
   "cell_type": "code",
   "execution_count": 9,
   "id": "9e697de2-0dfe-4c1b-acba-66f1333e1997",
   "metadata": {},
   "outputs": [
    {
     "data": {
      "text/plain": [
       "array([[11250000.],\n",
       "       [15000000.],\n",
       "       [18750000.],\n",
       "       [15000000.],\n",
       "       [20000000.],\n",
       "       [25000000.],\n",
       "       [18750000.],\n",
       "       [25000000.],\n",
       "       [31250000.]])"
      ]
     },
     "execution_count": 9,
     "metadata": {},
     "output_type": "execute_result"
    }
   ],
   "source": [
    "grid.volume"
   ]
  },
  {
   "cell_type": "code",
   "execution_count": 10,
   "id": "0705548e-2900-49bb-a2ae-5f98729cc5d3",
   "metadata": {},
   "outputs": [
    {
     "data": {
      "text/plain": [
       "array([ 375., 1250., 2375.])"
      ]
     },
     "execution_count": 10,
     "metadata": {},
     "output_type": "execute_result"
    }
   ],
   "source": [
    "grid.xaxis"
   ]
  },
  {
   "cell_type": "code",
   "execution_count": 11,
   "id": "97338b55-36c7-4fab-aab7-caad3ddc6dfc",
   "metadata": {},
   "outputs": [
    {
     "data": {
      "text/plain": [
       "array([ 375., 1250., 2375.])"
      ]
     },
     "execution_count": 11,
     "metadata": {},
     "output_type": "execute_result"
    }
   ],
   "source": [
    "grid.yaxis"
   ]
  },
  {
   "cell_type": "code",
   "execution_count": 12,
   "id": "c01026ab-d9a4-4c66-94af-64eb53065845",
   "metadata": {},
   "outputs": [],
   "source": [
    "# grid.set_depth(10000)\n",
    "grid.set_depth([6400,6000,5600,6000,5800,5400,5600,5400,5200])"
   ]
  },
  {
   "cell_type": "code",
   "execution_count": 13,
   "id": "a0a5414e-e724-4383-9068-7f5f5f693cee",
   "metadata": {},
   "outputs": [
    {
     "data": {
      "text/plain": [
       "array([[6400.],\n",
       "       [6000.],\n",
       "       [5600.],\n",
       "       [6000.],\n",
       "       [5800.],\n",
       "       [5400.],\n",
       "       [5600.],\n",
       "       [5400.],\n",
       "       [5200.]])"
      ]
     },
     "execution_count": 13,
     "metadata": {},
     "output_type": "execute_result"
    }
   ],
   "source": [
    "grid.depth"
   ]
  },
  {
   "cell_type": "code",
   "execution_count": 14,
   "id": "970c722d-df23-464f-ae1a-106f4f10f5c0",
   "metadata": {},
   "outputs": [],
   "source": [
    "grid.set_poro((0.15,0.18,0.20,0.17,0.20,0.22,0.22,0.25,0.26))"
   ]
  },
  {
   "cell_type": "code",
   "execution_count": 15,
   "id": "c08abd83-0d14-413b-b912-f595cfeb3ae8",
   "metadata": {},
   "outputs": [
    {
     "data": {
      "text/plain": [
       "array([[0.15],\n",
       "       [0.18],\n",
       "       [0.2 ],\n",
       "       [0.17],\n",
       "       [0.2 ],\n",
       "       [0.22],\n",
       "       [0.22],\n",
       "       [0.25],\n",
       "       [0.26]])"
      ]
     },
     "execution_count": 15,
     "metadata": {},
     "output_type": "execute_result"
    }
   ],
   "source": [
    "grid.poro"
   ]
  },
  {
   "cell_type": "code",
   "execution_count": 16,
   "id": "a88bd88d-ee32-42af-8457-746348067b20",
   "metadata": {},
   "outputs": [],
   "source": [
    "grid.set_perm((50,100,200,100,150,250,150,200,300),yreduce=0.5,zreduce=0.1)"
   ]
  },
  {
   "cell_type": "code",
   "execution_count": 17,
   "id": "c878658e-5323-4e0e-a4db-9625b7028f4c",
   "metadata": {},
   "outputs": [
    {
     "data": {
      "text/plain": [
       "array([[ 50.],\n",
       "       [100.],\n",
       "       [200.],\n",
       "       [100.],\n",
       "       [150.],\n",
       "       [250.],\n",
       "       [150.],\n",
       "       [200.],\n",
       "       [300.]])"
      ]
     },
     "execution_count": 17,
     "metadata": {},
     "output_type": "execute_result"
    }
   ],
   "source": [
    "grid.xperm"
   ]
  },
  {
   "cell_type": "code",
   "execution_count": 18,
   "id": "4d108700-d997-4498-bf41-1e81480f8105",
   "metadata": {},
   "outputs": [],
   "source": [
    "grid.zmin"
   ]
  },
  {
   "cell_type": "markdown",
   "id": "99063af3-7b0b-42f8-9089-bc05865df024",
   "metadata": {},
   "source": [
    "# Fluid Properties"
   ]
  },
  {
   "cell_type": "code",
   "execution_count": 19,
   "id": "9373e784-64df-422c-ac41-ea1d0691fdb4",
   "metadata": {},
   "outputs": [],
   "source": [
    "class fluid():\n",
    "    \n",
    "    def __init__(self,density,viscosity):\n",
    "        \"\"\"\n",
    "        density in lbm/ft3\n",
    "        viscosity in cp\n",
    "        \"\"\"\n",
    "        self._density = density*16.0185\n",
    "        self._viscosity = viscosity*0.001\n",
    "\n",
    "    @property\n",
    "    def density(self):\n",
    "        return self._density/16.0185\n",
    "        \n",
    "    @property\n",
    "    def viscosity(self):\n",
    "        return self._viscosity/0.001"
   ]
  },
  {
   "cell_type": "code",
   "execution_count": 20,
   "id": "eacaf2d3-249f-40a6-adab-7192d6908e2e",
   "metadata": {},
   "outputs": [],
   "source": [
    "oil = fluid(53,5)"
   ]
  },
  {
   "cell_type": "code",
   "execution_count": 21,
   "id": "2aff98f6-48b4-42fd-a81a-1898a144b48b",
   "metadata": {},
   "outputs": [
    {
     "data": {
      "text/plain": [
       "53.0"
      ]
     },
     "execution_count": 21,
     "metadata": {},
     "output_type": "execute_result"
    }
   ],
   "source": [
    "oil.density"
   ]
  },
  {
   "cell_type": "code",
   "execution_count": 22,
   "id": "ebe9df4d-d552-461b-bff8-4c95076327b7",
   "metadata": {},
   "outputs": [
    {
     "data": {
      "text/plain": [
       "5.0"
      ]
     },
     "execution_count": 22,
     "metadata": {},
     "output_type": "execute_result"
    }
   ],
   "source": [
    "oil.viscosity"
   ]
  },
  {
   "cell_type": "markdown",
   "id": "57a495a6-8d81-43db-b03d-313d1e3fa49f",
   "metadata": {},
   "source": [
    "# Matrices"
   ]
  },
  {
   "cell_type": "code",
   "execution_count": 24,
   "id": "8c5a7f47-0665-4cb0-bd3f-67671b241351",
   "metadata": {},
   "outputs": [],
   "source": [
    "bcond = BoundCond('xmax',press=1000)"
   ]
  },
  {
   "cell_type": "code",
   "execution_count": 26,
   "id": "3db139b7-ee81-4adc-a523-addc8c837823",
   "metadata": {},
   "outputs": [],
   "source": [
    "tclass = Matrix(grid,oil,bconds=(bcond,))"
   ]
  },
  {
   "cell_type": "code",
   "execution_count": 27,
   "id": "26f78b05-a79e-420b-8d3f-c62e3f263bf8",
   "metadata": {},
   "outputs": [
    {
     "data": {
      "text/plain": [
       "array([3.60977066e-13, 5.55349333e-13, 8.49357803e-13, 1.03136305e-12,\n",
       "       1.50407111e-12, 1.64080485e-12])"
      ]
     },
     "execution_count": 27,
     "metadata": {},
     "output_type": "execute_result"
    }
   ],
   "source": [
    "tclass._staticx"
   ]
  },
  {
   "cell_type": "code",
   "execution_count": 28,
   "id": "6b7548b8-6df6-4bbc-bb22-a3eb754fea82",
   "metadata": {},
   "outputs": [],
   "source": [
    "tmatrix = tclass.Tmatrix()"
   ]
  },
  {
   "cell_type": "code",
   "execution_count": 29,
   "id": "fe0bd9d8-b08a-4cb8-9479-e8c359be72c9",
   "metadata": {},
   "outputs": [
    {
     "data": {
      "text/plain": [
       "matrix([[ 1.08293120e-10, -7.21954132e-11,  0.00000000e+00,\n",
       "         -3.60977066e-11,  0.00000000e+00,  0.00000000e+00,\n",
       "          0.00000000e+00,  0.00000000e+00,  0.00000000e+00],\n",
       "        [-7.21954132e-11,  2.68201060e-10, -1.11069867e-10,\n",
       "          0.00000000e+00, -8.49357803e-11,  0.00000000e+00,\n",
       "          0.00000000e+00,  0.00000000e+00,  0.00000000e+00],\n",
       "        [ 0.00000000e+00, -1.11069867e-10,  3.05143558e-10,\n",
       "          0.00000000e+00,  0.00000000e+00, -1.94073692e-10,\n",
       "          0.00000000e+00,  0.00000000e+00,  0.00000000e+00],\n",
       "        [-3.60977066e-11,  0.00000000e+00,  0.00000000e+00,\n",
       "          2.55193413e-10, -1.69871561e-10,  0.00000000e+00,\n",
       "         -4.92241454e-11,  0.00000000e+00,  0.00000000e+00],\n",
       "        [ 0.00000000e+00, -8.49357803e-11,  0.00000000e+00,\n",
       "         -1.69871561e-10,  5.54235322e-10, -2.06272609e-10,\n",
       "          0.00000000e+00, -9.31553719e-11,  0.00000000e+00],\n",
       "        [ 0.00000000e+00,  0.00000000e+00, -1.94073692e-10,\n",
       "          0.00000000e+00, -2.06272609e-10,  5.84518273e-10,\n",
       "          0.00000000e+00,  0.00000000e+00, -1.84171973e-10],\n",
       "        [ 0.00000000e+00,  0.00000000e+00,  0.00000000e+00,\n",
       "         -4.92241454e-11,  0.00000000e+00,  0.00000000e+00,\n",
       "          3.50038367e-10, -3.00814222e-10,  0.00000000e+00],\n",
       "        [ 0.00000000e+00,  0.00000000e+00,  0.00000000e+00,\n",
       "          0.00000000e+00, -9.31553719e-11,  0.00000000e+00,\n",
       "         -3.00814222e-10,  7.22130563e-10, -3.28160969e-10],\n",
       "        [ 0.00000000e+00,  0.00000000e+00,  0.00000000e+00,\n",
       "          0.00000000e+00,  0.00000000e+00, -1.84171973e-10,\n",
       "          0.00000000e+00, -3.28160969e-10,  5.12332942e-10]])"
      ]
     },
     "execution_count": 29,
     "metadata": {},
     "output_type": "execute_result"
    }
   ],
   "source": [
    "tmatrix.todense()"
   ]
  },
  {
   "cell_type": "code",
   "execution_count": 30,
   "id": "971bb386-ba21-4080-88bd-e6af24cccba3",
   "metadata": {},
   "outputs": [],
   "source": [
    "jmatrix = tclass.Jmatrix()"
   ]
  },
  {
   "cell_type": "code",
   "execution_count": 31,
   "id": "e43cf0b9-438f-4bca-8932-e7f4ed89b962",
   "metadata": {},
   "outputs": [
    {
     "data": {
      "text/plain": [
       "matrix([[0.00000000e+00, 0.00000000e+00, 0.00000000e+00, 0.00000000e+00,\n",
       "         0.00000000e+00, 0.00000000e+00, 0.00000000e+00, 0.00000000e+00,\n",
       "         0.00000000e+00],\n",
       "        [0.00000000e+00, 0.00000000e+00, 0.00000000e+00, 0.00000000e+00,\n",
       "         0.00000000e+00, 0.00000000e+00, 0.00000000e+00, 0.00000000e+00,\n",
       "         0.00000000e+00],\n",
       "        [0.00000000e+00, 0.00000000e+00, 2.88781653e-10, 0.00000000e+00,\n",
       "         0.00000000e+00, 0.00000000e+00, 0.00000000e+00, 0.00000000e+00,\n",
       "         0.00000000e+00],\n",
       "        [0.00000000e+00, 0.00000000e+00, 0.00000000e+00, 0.00000000e+00,\n",
       "         0.00000000e+00, 0.00000000e+00, 0.00000000e+00, 0.00000000e+00,\n",
       "         0.00000000e+00],\n",
       "        [0.00000000e+00, 0.00000000e+00, 0.00000000e+00, 0.00000000e+00,\n",
       "         0.00000000e+00, 0.00000000e+00, 0.00000000e+00, 0.00000000e+00,\n",
       "         0.00000000e+00],\n",
       "        [0.00000000e+00, 0.00000000e+00, 0.00000000e+00, 0.00000000e+00,\n",
       "         0.00000000e+00, 4.81302755e-10, 0.00000000e+00, 0.00000000e+00,\n",
       "         0.00000000e+00],\n",
       "        [0.00000000e+00, 0.00000000e+00, 0.00000000e+00, 0.00000000e+00,\n",
       "         0.00000000e+00, 0.00000000e+00, 0.00000000e+00, 0.00000000e+00,\n",
       "         0.00000000e+00],\n",
       "        [0.00000000e+00, 0.00000000e+00, 0.00000000e+00, 0.00000000e+00,\n",
       "         0.00000000e+00, 0.00000000e+00, 0.00000000e+00, 0.00000000e+00,\n",
       "         0.00000000e+00],\n",
       "        [0.00000000e+00, 0.00000000e+00, 0.00000000e+00, 0.00000000e+00,\n",
       "         0.00000000e+00, 0.00000000e+00, 0.00000000e+00, 0.00000000e+00,\n",
       "         7.21954132e-10]])"
      ]
     },
     "execution_count": 31,
     "metadata": {},
     "output_type": "execute_result"
    }
   ],
   "source": [
    "jmatrix.todense()"
   ]
  },
  {
   "cell_type": "code",
   "execution_count": 32,
   "id": "63d926e2-3d2d-4a01-9973-03313e1918e5",
   "metadata": {},
   "outputs": [],
   "source": [
    "amatrix = tclass.Amatrix()"
   ]
  },
  {
   "cell_type": "code",
   "execution_count": 33,
   "id": "ae4fc05e-6d69-4693-824a-c5604577575c",
   "metadata": {},
   "outputs": [
    {
     "data": {
      "text/plain": [
       "matrix([[ 47784.678624 ,      0.       ,      0.       ,      0.       ,\n",
       "              0.       ,      0.       ,      0.       ,      0.       ,\n",
       "              0.       ],\n",
       "        [     0.       ,  76455.4857984,      0.       ,      0.       ,\n",
       "              0.       ,      0.       ,      0.       ,      0.       ,\n",
       "              0.       ],\n",
       "        [     0.       ,      0.       , 106188.17472  ,      0.       ,\n",
       "              0.       ,      0.       ,      0.       ,      0.       ,\n",
       "              0.       ],\n",
       "        [     0.       ,      0.       ,      0.       ,  72207.9588096,\n",
       "              0.       ,      0.       ,      0.       ,      0.       ,\n",
       "              0.       ],\n",
       "        [     0.       ,      0.       ,      0.       ,      0.       ,\n",
       "         113267.386368 ,      0.       ,      0.       ,      0.       ,\n",
       "              0.       ],\n",
       "        [     0.       ,      0.       ,      0.       ,      0.       ,\n",
       "              0.       , 155742.656256 ,      0.       ,      0.       ,\n",
       "              0.       ],\n",
       "        [     0.       ,      0.       ,      0.       ,      0.       ,\n",
       "              0.       ,      0.       , 116806.992192 ,      0.       ,\n",
       "              0.       ],\n",
       "        [     0.       ,      0.       ,      0.       ,      0.       ,\n",
       "              0.       ,      0.       ,      0.       , 176980.2912   ,\n",
       "              0.       ],\n",
       "        [     0.       ,      0.       ,      0.       ,      0.       ,\n",
       "              0.       ,      0.       ,      0.       ,      0.       ,\n",
       "         230074.37856  ]])"
      ]
     },
     "execution_count": 33,
     "metadata": {},
     "output_type": "execute_result"
    }
   ],
   "source": [
    "amatrix.todense()"
   ]
  },
  {
   "cell_type": "code",
   "execution_count": 34,
   "id": "486f042a-582f-484c-85a7-9722f9f1eafe",
   "metadata": {},
   "outputs": [],
   "source": [
    "qvector = tclass.Qvector()"
   ]
  },
  {
   "cell_type": "code",
   "execution_count": 35,
   "id": "f9d5818d-be27-474f-a8ce-ec0e41c3ba37",
   "metadata": {},
   "outputs": [
    {
     "data": {
      "text/plain": [
       "matrix([[0.        ],\n",
       "        [0.        ],\n",
       "        [0.00199108],\n",
       "        [0.        ],\n",
       "        [0.        ],\n",
       "        [0.00331847],\n",
       "        [0.        ],\n",
       "        [0.        ],\n",
       "        [0.0049777 ]])"
      ]
     },
     "execution_count": 35,
     "metadata": {},
     "output_type": "execute_result"
    }
   ],
   "source": [
    "qvector.todense()"
   ]
  },
  {
   "cell_type": "code",
   "execution_count": 36,
   "id": "6019d565-b02b-4747-b188-f539a2a7c869",
   "metadata": {},
   "outputs": [],
   "source": [
    "gvector = tclass.Gvector(tmatrix)"
   ]
  },
  {
   "cell_type": "code",
   "execution_count": 37,
   "id": "eac6d36b-bad6-4f59-b072-3b856c2e7576",
   "metadata": {},
   "outputs": [
    {
     "data": {
      "text/plain": [
       "array([[ 1.09928350e-04],\n",
       "       [ 8.25706160e-05],\n",
       "       [-1.42449199e-05],\n",
       "       [ 9.95429624e-05],\n",
       "       [ 1.74621885e-04],\n",
       "       [-2.14412951e-04],\n",
       "       [ 1.02710832e-04],\n",
       "       [-8.06821795e-05],\n",
       "       [-2.60034595e-04]])"
      ]
     },
     "execution_count": 37,
     "metadata": {},
     "output_type": "execute_result"
    }
   ],
   "source": [
    "gvector"
   ]
  },
  {
   "cell_type": "markdown",
   "id": "54824e2a-9699-470f-9297-440fd94d234c",
   "metadata": {},
   "source": [
    "# Mixed Solver"
   ]
  },
  {
   "cell_type": "code",
   "execution_count": 38,
   "id": "0d2749e5-3afa-4fea-a371-1d928f325ed0",
   "metadata": {},
   "outputs": [],
   "source": [
    "solver = OnePhase(grid,oil,bconds=(bcond,))"
   ]
  },
  {
   "cell_type": "markdown",
   "id": "9f45423c-0602-466e-91ee-63bc497704ff",
   "metadata": {},
   "source": [
    "# Time Control"
   ]
  },
  {
   "cell_type": "code",
   "execution_count": 39,
   "id": "35efcf77-acd7-487a-9ff5-7b4a4896fb0e",
   "metadata": {},
   "outputs": [],
   "source": [
    "solver.set_time(5,nstep=100)"
   ]
  },
  {
   "cell_type": "code",
   "execution_count": 40,
   "id": "698bcc0e-1601-4ee0-802c-c5cdb91c2774",
   "metadata": {},
   "outputs": [
    {
     "data": {
      "text/plain": [
       "100"
      ]
     },
     "execution_count": 40,
     "metadata": {},
     "output_type": "execute_result"
    }
   ],
   "source": [
    "solver.nstep"
   ]
  },
  {
   "cell_type": "markdown",
   "id": "5b7ec36b-d386-4ed9-b596-e92a180c0f2d",
   "metadata": {},
   "source": [
    "# Reservoir Initialization"
   ]
  },
  {
   "cell_type": "code",
   "execution_count": 41,
   "id": "5553edeb-daf0-4c5e-8b33-3fa00c306225",
   "metadata": {},
   "outputs": [],
   "source": [
    "solver.initialize(6400,3000,ctotal=1e-5)"
   ]
  },
  {
   "cell_type": "code",
   "execution_count": 42,
   "id": "4e5c5143-6a48-46c9-8934-7e9d090586ce",
   "metadata": {},
   "outputs": [
    {
     "data": {
      "text/plain": [
       "array([[3000.        ],\n",
       "       [2852.77224457],\n",
       "       [2705.54448915],\n",
       "       [2852.77224457],\n",
       "       [2779.15836686],\n",
       "       [2631.93061143],\n",
       "       [2705.54448915],\n",
       "       [2631.93061143],\n",
       "       [2558.31673372]])"
      ]
     },
     "execution_count": 42,
     "metadata": {},
     "output_type": "execute_result"
    }
   ],
   "source": [
    "solver.pinit"
   ]
  },
  {
   "cell_type": "markdown",
   "id": "8cd8efb8-f3cb-4ac9-badb-e627ece2ab1a",
   "metadata": {},
   "source": [
    "# Solving"
   ]
  },
  {
   "cell_type": "code",
   "execution_count": 43,
   "id": "1f0380fd-5146-4f24-aadb-1b326b848edc",
   "metadata": {},
   "outputs": [
    {
     "name": "stdout",
     "output_type": "stream",
     "text": [
      "0 time step is complete...\n",
      "1 time step is complete...\n",
      "2 time step is complete...\n",
      "3 time step is complete...\n",
      "4 time step is complete...\n",
      "5 time step is complete...\n",
      "6 time step is complete...\n",
      "7 time step is complete...\n",
      "8 time step is complete...\n",
      "9 time step is complete...\n",
      "10 time step is complete...\n",
      "11 time step is complete...\n",
      "12 time step is complete...\n",
      "13 time step is complete...\n",
      "14 time step is complete...\n",
      "15 time step is complete...\n",
      "16 time step is complete...\n",
      "17 time step is complete...\n",
      "18 time step is complete...\n",
      "19 time step is complete...\n",
      "20 time step is complete...\n",
      "21 time step is complete...\n",
      "22 time step is complete...\n",
      "23 time step is complete...\n",
      "24 time step is complete...\n",
      "25 time step is complete...\n",
      "26 time step is complete...\n",
      "27 time step is complete...\n",
      "28 time step is complete...\n",
      "29 time step is complete...\n",
      "30 time step is complete...\n",
      "31 time step is complete...\n",
      "32 time step is complete...\n",
      "33 time step is complete...\n",
      "34 time step is complete...\n",
      "35 time step is complete...\n",
      "36 time step is complete...\n",
      "37 time step is complete...\n",
      "38 time step is complete...\n",
      "39 time step is complete...\n",
      "40 time step is complete...\n",
      "41 time step is complete...\n",
      "42 time step is complete...\n",
      "43 time step is complete...\n",
      "44 time step is complete...\n",
      "45 time step is complete...\n",
      "46 time step is complete...\n",
      "47 time step is complete...\n",
      "48 time step is complete...\n",
      "49 time step is complete...\n",
      "50 time step is complete...\n",
      "51 time step is complete...\n",
      "52 time step is complete...\n",
      "53 time step is complete...\n",
      "54 time step is complete...\n",
      "55 time step is complete...\n",
      "56 time step is complete...\n",
      "57 time step is complete...\n",
      "58 time step is complete...\n",
      "59 time step is complete...\n",
      "60 time step is complete...\n",
      "61 time step is complete...\n",
      "62 time step is complete...\n",
      "63 time step is complete...\n",
      "64 time step is complete...\n",
      "65 time step is complete...\n",
      "66 time step is complete...\n",
      "67 time step is complete...\n",
      "68 time step is complete...\n",
      "69 time step is complete...\n",
      "70 time step is complete...\n",
      "71 time step is complete...\n",
      "72 time step is complete...\n",
      "73 time step is complete...\n",
      "74 time step is complete...\n",
      "75 time step is complete...\n",
      "76 time step is complete...\n",
      "77 time step is complete...\n",
      "78 time step is complete...\n",
      "79 time step is complete...\n",
      "80 time step is complete...\n",
      "81 time step is complete...\n",
      "82 time step is complete...\n",
      "83 time step is complete...\n",
      "84 time step is complete...\n",
      "85 time step is complete...\n",
      "86 time step is complete...\n",
      "87 time step is complete...\n",
      "88 time step is complete...\n",
      "89 time step is complete...\n",
      "90 time step is complete...\n",
      "91 time step is complete...\n",
      "92 time step is complete...\n",
      "93 time step is complete...\n",
      "94 time step is complete...\n",
      "95 time step is complete...\n",
      "96 time step is complete...\n",
      "97 time step is complete...\n",
      "98 time step is complete...\n",
      "99 time step is complete...\n"
     ]
    }
   ],
   "source": [
    "solver.solve()"
   ]
  },
  {
   "cell_type": "code",
   "execution_count": 44,
   "id": "8332df15-3b1b-4ee1-b738-12538e64de6e",
   "metadata": {},
   "outputs": [
    {
     "data": {
      "text/plain": [
       "array([2939.49817745, 2668.32415371, 2027.05417444, 2771.27298048,\n",
       "       2577.98257892, 1952.57340371, 2620.26664363, 2434.86030827,\n",
       "       1903.10962596])"
      ]
     },
     "execution_count": 44,
     "metadata": {},
     "output_type": "execute_result"
    }
   ],
   "source": [
    "solver.pressure[:,0]"
   ]
  },
  {
   "cell_type": "code",
   "execution_count": 45,
   "id": "ab09a5b1-1e81-472b-a189-96ca82f94640",
   "metadata": {},
   "outputs": [
    {
     "data": {
      "text/plain": [
       "array([2827.18284483, 2453.3959482 , 1679.72312893, 2633.9071309 ,\n",
       "       2356.86032886, 1620.97457967, 2478.43060356, 2218.55957728,\n",
       "       1585.09866434])"
      ]
     },
     "execution_count": 45,
     "metadata": {},
     "output_type": "execute_result"
    }
   ],
   "source": [
    "solver.pressure[:,1]"
   ]
  },
  {
   "cell_type": "code",
   "execution_count": 46,
   "id": "9f9499c1-fdf9-42e9-8243-ea0456485953",
   "metadata": {},
   "outputs": [
    {
     "data": {
      "text/plain": [
       "array([2685.94903648, 2257.21947899, 1490.30917894, 2474.03543648,\n",
       "       2161.80974005, 1443.67490336, 2315.45208954, 2027.50987167,\n",
       "       1415.17359686])"
      ]
     },
     "execution_count": 46,
     "metadata": {},
     "output_type": "execute_result"
    }
   ],
   "source": [
    "solver.pressure[:,2]"
   ]
  },
  {
   "cell_type": "code",
   "execution_count": 47,
   "id": "f86cd6c3-5ece-4d29-b21b-3a7966ebd605",
   "metadata": {},
   "outputs": [
    {
     "data": {
      "text/plain": [
       "array([1364.9778214 , 1208.71550926, 1037.25970896, 1235.81904316,\n",
       "       1159.10502382, 1005.2223693 , 1112.54026992, 1042.84528493,\n",
       "        981.61461331])"
      ]
     },
     "execution_count": 47,
     "metadata": {},
     "output_type": "execute_result"
    }
   ],
   "source": [
    "solver.pressure[:,-1]"
   ]
  },
  {
   "cell_type": "code",
   "execution_count": null,
   "id": "9223b2e8-870a-4d1e-82da-d9eb589c8c45",
   "metadata": {},
   "outputs": [],
   "source": []
  }
 ],
 "metadata": {
  "kernelspec": {
   "display_name": "Python 3 (ipykernel)",
   "language": "python",
   "name": "python3"
  },
  "language_info": {
   "codemirror_mode": {
    "name": "ipython",
    "version": 3
   },
   "file_extension": ".py",
   "mimetype": "text/x-python",
   "name": "python",
   "nbconvert_exporter": "python",
   "pygments_lexer": "ipython3",
   "version": "3.11.2"
  }
 },
 "nbformat": 4,
 "nbformat_minor": 5
}
