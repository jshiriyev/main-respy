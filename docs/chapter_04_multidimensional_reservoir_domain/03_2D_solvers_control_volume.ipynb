{
 "cells": [
  {
   "cell_type": "code",
   "execution_count": 1,
   "metadata": {
    "executionInfo": {
     "elapsed": 327,
     "status": "ok",
     "timestamp": 1739529070832,
     "user": {
      "displayName": "Javid Shiriyev",
      "userId": "04377657040188470328"
     },
     "user_tz": -240
    },
    "id": "5vRIadbjAxqE"
   },
   "outputs": [],
   "source": [
    "import numpy as np"
   ]
  },
  {
   "cell_type": "markdown",
   "metadata": {
    "jp-MarkdownHeadingCollapsed": true
   },
   "source": [
    "# Creating Grids"
   ]
  },
  {
   "cell_type": "code",
   "execution_count": 34,
   "metadata": {},
   "outputs": [],
   "source": [
    "class GridDelta():\n",
    "\tdef __init__(self,xdelta,ydelta,zdelta):\n",
    "\t\t\"\"\"Initialize grid deltas in feet. Internally stored in meters.\"\"\"\n",
    "\t\tself.xdelta = xdelta # ft\n",
    "\t\tself.ydelta = ydelta # ft\n",
    "\t\tself.zdelta = zdelta # ft\n",
    "\n",
    "\t@property\n",
    "\tdef xdelta(self):\n",
    "\t\treturn self._xdelta/0.3048\n",
    "\t\n",
    "\t@xdelta.setter\n",
    "\tdef xdelta(self,value):\n",
    "\t\tself._xdelta = np.asarray(value).flatten().astype(np.float64)*0.3048\n",
    "\n",
    "\t@property\n",
    "\tdef ydelta(self):\n",
    "\t\treturn self._ydelta/0.3048\n",
    "\n",
    "\t@ydelta.setter\n",
    "\tdef ydelta(self,value):\n",
    "\t\tself._ydelta = np.asarray(value).flatten().astype(np.float64)*0.3048\n",
    "\n",
    "\t@property\n",
    "\tdef zdelta(self):\n",
    "\t\treturn self._zdelta/0.3048\n",
    "\n",
    "\t@zdelta.setter\n",
    "\tdef zdelta(self,value):\n",
    "\t\tself._zdelta = np.asarray(value).flatten().astype(np.float64)*0.3048\n",
    "\n",
    "\tdef __call__(self):\n",
    "\n",
    "\t\t_xdelta = np.tile(self._xdelta,self.ynums*self.znums)\n",
    "\t\t_ydelta = np.tile(np.repeat(self._ydelta,self.xnums),self.znums)\n",
    "\t\t_zdelta = np.repeat(self._zdelta,self.xnums*self.ynums)\n",
    "\n",
    "\t\treturn _xdelta,_ydelta,_zdelta\n",
    "\n",
    "\t@property\n",
    "\tdef _volume(self):\n",
    "\t\treturn np.prod(self.__call__(),axis=0)\n",
    "\n",
    "\t@property\n",
    "\tdef volume(self):\n",
    "\t\treturn self._volume*35.3147\n",
    "\n",
    "\t@property\n",
    "\tdef index(self):\n",
    "\t\treturn np.arange(self.nums)\n",
    "\n",
    "\t@property\n",
    "\tdef map(self):\n",
    "\t\t\"\"\"Plat of grids that locates neighbor index information.\"\"\"\n",
    "\t\tmap_ = np.tile(self.index,(self.dims*2,1)).T\n",
    "\n",
    "\t\tmap_[self.index.reshape(-1,self.xnums)[:,1:].ravel(),0] -= 1\n",
    "\t\tmap_[self.index.reshape(-1,self.xnums)[:,:-1].ravel(),1] += 1\n",
    "\n",
    "\t\tif self.dims>1:\n",
    "\t\t\tmap_[self.index.reshape(self.znums,-1)[:,self.xnums:],2] -= self.xnums\n",
    "\t\t\tmap_[self.index.reshape(self.znums,-1)[:,:-self.xnums],3] += self.xnums\n",
    "\n",
    "\t\tif self.dims>2:\n",
    "\t\t\tmap_[self.index.reshape(self.znums,-1)[1:,:],4] -= self.xnums*self.ynums\n",
    "\t\t\tmap_[self.index.reshape(self.znums,-1)[:-1,:],5] += self.xnums*self.ynums\n",
    "\n",
    "\t\treturn map_\n",
    "\n",
    "\t@property\n",
    "\tdef nums(self):\n",
    "\t\t\"\"\"Returns total number of grids.\"\"\"\n",
    "\t\treturn np.prod(self.nums_tuple).item()\n",
    "\t\t\n",
    "\t@property\n",
    "\tdef nums_tuple(self):\n",
    "\t\t\"\"\"Returns tuple of (xnums,ynums,znums).\"\"\"\n",
    "\t\treturn (self.xnums,self.ynums,self.znums)\n",
    "\n",
    "\t@property\n",
    "\tdef xnums(self):\n",
    "\t\treturn self._xdelta.size\n",
    "\n",
    "\t@property\n",
    "\tdef ynums(self):\n",
    "\t\treturn self._ydelta.size\n",
    "\n",
    "\t@property\n",
    "\tdef znums(self):\n",
    "\t\treturn self._zdelta.size\n",
    "\n",
    "\t@property\n",
    "\tdef dims(self) -> int:\n",
    "\t\t\"\"\"Returns the number of dimensions based on self.nums.\"\"\"\n",
    "\t\treturn next((i+1 for i in range(2,-1,-1) if self.nums_tuple[i]>1),1)"
   ]
  },
  {
   "cell_type": "code",
   "execution_count": 35,
   "metadata": {},
   "outputs": [],
   "source": [
    "xdelta = np.array([750,1000,1250])\n",
    "ydelta = np.array([750,1000,1250])"
   ]
  },
  {
   "cell_type": "code",
   "execution_count": 36,
   "metadata": {},
   "outputs": [],
   "source": [
    "grid = GridDelta(xdelta,ydelta,20)"
   ]
  },
  {
   "cell_type": "code",
   "execution_count": 37,
   "metadata": {},
   "outputs": [
    {
     "data": {
      "text/plain": [
       "array([ 750., 1000., 1250.])"
      ]
     },
     "execution_count": 37,
     "metadata": {},
     "output_type": "execute_result"
    }
   ],
   "source": [
    "grid.xdelta"
   ]
  },
  {
   "cell_type": "code",
   "execution_count": 38,
   "metadata": {},
   "outputs": [
    {
     "data": {
      "text/plain": [
       "array([ 750., 1000., 1250.])"
      ]
     },
     "execution_count": 38,
     "metadata": {},
     "output_type": "execute_result"
    }
   ],
   "source": [
    "grid.ydelta"
   ]
  },
  {
   "cell_type": "code",
   "execution_count": 39,
   "metadata": {},
   "outputs": [
    {
     "data": {
      "text/plain": [
       "2"
      ]
     },
     "execution_count": 39,
     "metadata": {},
     "output_type": "execute_result"
    }
   ],
   "source": [
    "grid.dims"
   ]
  },
  {
   "cell_type": "code",
   "execution_count": 40,
   "metadata": {},
   "outputs": [
    {
     "data": {
      "text/plain": [
       "array([11250010.60135316, 15000014.13513754, 18750017.66892192,\n",
       "       15000014.13513754, 20000018.84685005, 25000023.55856256,\n",
       "       18750017.66892192, 25000023.55856256, 31250029.4482032 ])"
      ]
     },
     "execution_count": 40,
     "metadata": {},
     "output_type": "execute_result"
    }
   ],
   "source": [
    "grid.volume"
   ]
  },
  {
   "cell_type": "code",
   "execution_count": 41,
   "metadata": {},
   "outputs": [
    {
     "data": {
      "text/plain": [
       "array([0, 1, 2, 3, 4, 5, 6, 7, 8])"
      ]
     },
     "execution_count": 41,
     "metadata": {},
     "output_type": "execute_result"
    }
   ],
   "source": [
    "grid.index"
   ]
  },
  {
   "cell_type": "code",
   "execution_count": 42,
   "metadata": {},
   "outputs": [
    {
     "data": {
      "text/plain": [
       "array([[0, 1, 0, 3],\n",
       "       [0, 2, 1, 4],\n",
       "       [1, 2, 2, 5],\n",
       "       [3, 4, 0, 6],\n",
       "       [3, 5, 1, 7],\n",
       "       [4, 5, 2, 8],\n",
       "       [6, 7, 3, 6],\n",
       "       [6, 8, 4, 7],\n",
       "       [7, 8, 5, 8]])"
      ]
     },
     "execution_count": 42,
     "metadata": {},
     "output_type": "execute_result"
    }
   ],
   "source": [
    "grid.map"
   ]
  },
  {
   "cell_type": "markdown",
   "metadata": {
    "jp-MarkdownHeadingCollapsed": true
   },
   "source": [
    "# Creating Porous Rock"
   ]
  },
  {
   "cell_type": "code",
   "execution_count": 9,
   "metadata": {
    "executionInfo": {
     "elapsed": 361,
     "status": "ok",
     "timestamp": 1739530671076,
     "user": {
      "displayName": "Javid Shiriyev",
      "userId": "04377657040188470328"
     },
     "user_tz": -240
    },
    "id": "rQtItyGN8k2g"
   },
   "outputs": [],
   "source": [
    "class PorMed():\n",
    "    \n",
    "    def __init__(self,*args,poro=None,**kwargs):\n",
    "\n",
    "        self.set_perm(*args,**kwargs)\n",
    "        \n",
    "        self.poro = poro # fraction\n",
    "        \n",
    "    @property\n",
    "    def perm(self):\n",
    "        return self._perm/9.869233e-16\n",
    "        \n",
    "    def set_perm(self,xperm,*,yperm=None,zperm=None,yreduce:float=1.,zreduce:float=10.):\n",
    "        \"\"\"Assigns the permeability values in mD to the grids.\n",
    "    \n",
    "        xperm \t: permeability in x-direction, mD\n",
    "        yperm   : permeability in y direction, mD\n",
    "        zperm   : permeability in z direction, mD\n",
    "    \n",
    "        yreduce : xperm to yperm ratio, dimensionless\n",
    "        zreduce : xperm to zperm ratio, dimensionless\n",
    "    \n",
    "        \"\"\"\n",
    "        self.xperm = xperm\n",
    "        self.yperm = (yperm,yreduce)\n",
    "        self.zperm = (zperm,zreduce)\n",
    "\n",
    "        self._perm = np.column_stack((self._xperm,self._yperm,self._zperm))\n",
    "\n",
    "    @property\n",
    "    def xperm(self):\n",
    "        return self._xperm/9.869233e-16\n",
    "\n",
    "    @xperm.setter\n",
    "    def xperm(self,value):\n",
    "        self._xperm = value*9.869233e-16\n",
    "\n",
    "    @property\n",
    "    def yperm(self):\n",
    "        return self._yperm/9.869233e-16\n",
    "\n",
    "    @yperm.setter\n",
    "    def yperm(self,value):\n",
    "        self._yperm = self._xperm/value[1] if value[0] is None else value[0]*9.869233e-16\n",
    "    \n",
    "    @property\n",
    "    def zperm(self):\n",
    "        return self._zperm/9.869233e-16\n",
    "\n",
    "    @zperm.setter\n",
    "    def zperm(self,value):\n",
    "        self._zperm = self._xperm/value[1] if value[0] is None else value[0]*9.869233e-16\n",
    "\n",
    "    @property\n",
    "    def poro(self):\n",
    "        return self._poro\n",
    "        \n",
    "    @poro.setter\n",
    "    def poro(self,value):\n",
    "        self._poro = value"
   ]
  },
  {
   "cell_type": "code",
   "execution_count": 10,
   "metadata": {},
   "outputs": [],
   "source": [
    "xperm = np.array([50,100,200,100,150,250,150,200,300])"
   ]
  },
  {
   "cell_type": "code",
   "execution_count": 11,
   "metadata": {},
   "outputs": [],
   "source": [
    "poro = np.array([0.15,0.18,0.20,0.17,0.20,0.22,0.22,0.25,0.26])"
   ]
  },
  {
   "cell_type": "code",
   "execution_count": 12,
   "metadata": {},
   "outputs": [],
   "source": [
    "res = PorMed(xperm,poro=poro,yreduce=2.,zreduce=10)"
   ]
  },
  {
   "cell_type": "code",
   "execution_count": 13,
   "metadata": {},
   "outputs": [
    {
     "data": {
      "text/plain": [
       "array([ 50., 100., 200., 100., 150., 250., 150., 200., 300.])"
      ]
     },
     "execution_count": 13,
     "metadata": {},
     "output_type": "execute_result"
    }
   ],
   "source": [
    "res.xperm"
   ]
  },
  {
   "cell_type": "code",
   "execution_count": 14,
   "metadata": {},
   "outputs": [
    {
     "data": {
      "text/plain": [
       "array([ 25.,  50., 100.,  50.,  75., 125.,  75., 100., 150.])"
      ]
     },
     "execution_count": 14,
     "metadata": {},
     "output_type": "execute_result"
    }
   ],
   "source": [
    "res.yperm"
   ]
  },
  {
   "cell_type": "code",
   "execution_count": 15,
   "metadata": {},
   "outputs": [
    {
     "data": {
      "text/plain": [
       "array([0.15, 0.18, 0.2 , 0.17, 0.2 , 0.22, 0.22, 0.25, 0.26])"
      ]
     },
     "execution_count": 15,
     "metadata": {},
     "output_type": "execute_result"
    }
   ],
   "source": [
    "res.poro"
   ]
  },
  {
   "cell_type": "markdown",
   "metadata": {
    "jp-MarkdownHeadingCollapsed": true
   },
   "source": [
    "# Fluid Properties"
   ]
  },
  {
   "cell_type": "code",
   "execution_count": 16,
   "metadata": {
    "executionInfo": {
     "elapsed": 370,
     "status": "ok",
     "timestamp": 1739532888126,
     "user": {
      "displayName": "Javid Shiriyev",
      "userId": "04377657040188470328"
     },
     "user_tz": -240
    },
    "id": "P6n7PjLtHy8C"
   },
   "outputs": [],
   "source": [
    "class Fluid():\n",
    "\n",
    "  def __init__(self,visc):\n",
    "    self.visc = visc # cp\n",
    "\n",
    "  @property\n",
    "  def visc(self):\n",
    "    return self._visc*1000\n",
    "\n",
    "  @visc.setter\n",
    "  def visc(self,value):\n",
    "    self._visc = value/1000"
   ]
  },
  {
   "cell_type": "code",
   "execution_count": 17,
   "metadata": {},
   "outputs": [],
   "source": [
    "oil = Fluid(visc=5)"
   ]
  },
  {
   "cell_type": "code",
   "execution_count": 18,
   "metadata": {},
   "outputs": [
    {
     "data": {
      "text/plain": [
       "5.0"
      ]
     },
     "execution_count": 18,
     "metadata": {},
     "output_type": "execute_result"
    }
   ],
   "source": [
    "oil.visc"
   ]
  },
  {
   "cell_type": "markdown",
   "metadata": {},
   "source": [
    "# Assemble"
   ]
  },
  {
   "cell_type": "code",
   "execution_count": 47,
   "metadata": {
    "executionInfo": {
     "elapsed": 472,
     "status": "ok",
     "timestamp": 1739532911106,
     "user": {
      "displayName": "Javid Shiriyev",
      "userId": "04377657040188470328"
     },
     "user_tz": -240
    },
    "id": "krY5CX43G5cO"
   },
   "outputs": [],
   "source": [
    "class Solver():\n",
    "\n",
    "    def __init__(self,grid,res,fluid):\n",
    "        self.grid = grid\n",
    "        self.res = res\n",
    "        self.fluid = fluid\n",
    "\n",
    "    def transmissibility(self):\n",
    "        _xdelta,_ydelta,_zdelta = self.grid()\n",
    "        \n",
    "        self._Tx = self.res._xperm*_ydelta*_zdelta/_xdelta/self.fluid._visc\n",
    "        self._Ty = self.res._yperm*_zdelta*_xdelta/_ydelta/self.fluid._visc\n",
    "        self._Tz = self.res._zperm*_xdelta*_ydelta/_zdelta/self.fluid._visc\n",
    "\n",
    "    def storativity(self,tdelta:float):\n",
    "        self._accumulation = (self.grid._volume*self.res._poro)/(tdelta*86400)\n",
    "\n",
    "    @property\n",
    "    def index(self):\n",
    "        return self.grid.index\n",
    "\n",
    "    @property\n",
    "    def Tx(self):\n",
    "        return self._Tx*21037223315.9808\n",
    "    \n",
    "    @property\n",
    "    def Ty(self):\n",
    "        return self._Ty*21037223315.9808\n",
    "    \n",
    "    @property\n",
    "    def Tz(self):\n",
    "        return self._Tz*21037223315.9808\n",
    "    \n",
    "    @property\n",
    "    def accumulation(self):\n",
    "        return self._accumulation*3051190.08"
   ]
  },
  {
   "cell_type": "code",
   "execution_count": 48,
   "metadata": {
    "executionInfo": {
     "elapsed": 436,
     "status": "ok",
     "timestamp": 1739532912722,
     "user": {
      "displayName": "Javid Shiriyev",
      "userId": "04377657040188470328"
     },
     "user_tz": -240
    },
    "id": "8dkMcQ_h-Enh"
   },
   "outputs": [],
   "source": [
    "sol = Solver(grid,res,oil)\n",
    "sol.transmissibility()\n",
    "sol.storativity(5)"
   ]
  },
  {
   "cell_type": "code",
   "execution_count": 49,
   "metadata": {
    "colab": {
     "base_uri": "https://localhost:8080/"
    },
    "executionInfo": {
     "elapsed": 285,
     "status": "ok",
     "timestamp": 1739531726324,
     "user": {
      "displayName": "Javid Shiriyev",
      "userId": "04377657040188470328"
     },
     "user_tz": -240
    },
    "id": "Ct-iIfC6KzNn",
    "outputId": "a3e718cc-6131-4f69-9fe1-e195e673e57d"
   },
   "outputs": [
    {
     "data": {
      "text/plain": [
       "array([1.26565919, 1.89848879, 3.03758206, 3.37509118, 3.79697758,\n",
       "       5.06263677, 6.32829596, 6.32829596, 7.59395515])"
      ]
     },
     "execution_count": 49,
     "metadata": {},
     "output_type": "execute_result"
    }
   ],
   "source": [
    "sol.Tx"
   ]
  },
  {
   "cell_type": "code",
   "execution_count": 50,
   "metadata": {},
   "outputs": [
    {
     "data": {
      "text/plain": [
       "array([11250010.60135316, 15000014.13513754, 18750017.66892192,\n",
       "       15000014.13513754, 20000018.84685005, 25000023.55856256,\n",
       "       18750017.66892192, 25000023.55856256, 31250029.4482032 ])"
      ]
     },
     "execution_count": 50,
     "metadata": {},
     "output_type": "execute_result"
    }
   ],
   "source": [
    "sol.grid.volume"
   ]
  },
  {
   "cell_type": "code",
   "execution_count": 51,
   "metadata": {},
   "outputs": [
    {
     "data": {
      "text/plain": [
       "array([ 337500.31804059,  540000.50886495,  750000.70675688,\n",
       "        510000.48059468,  800000.753874  , 1100001.03657675,\n",
       "        825000.77743256, 1250001.17792813, 1625001.53130657])"
      ]
     },
     "execution_count": 51,
     "metadata": {},
     "output_type": "execute_result"
    }
   ],
   "source": [
    "sol.accumulation"
   ]
  },
  {
   "cell_type": "code",
   "execution_count": 52,
   "metadata": {
    "executionInfo": {
     "elapsed": 360,
     "status": "ok",
     "timestamp": 1739532120431,
     "user": {
      "displayName": "Javid Shiriyev",
      "userId": "04377657040188470328"
     },
     "user_tz": -240
    },
    "id": "adVxOm7x-f7x"
   },
   "outputs": [],
   "source": [
    "T = np.zeros((9,9))"
   ]
  },
  {
   "cell_type": "code",
   "execution_count": 53,
   "metadata": {},
   "outputs": [
    {
     "data": {
      "text/plain": [
       "array([[0, 1, 0, 3],\n",
       "       [0, 2, 1, 4],\n",
       "       [1, 2, 2, 5],\n",
       "       [3, 4, 0, 6],\n",
       "       [3, 5, 1, 7],\n",
       "       [4, 5, 2, 8],\n",
       "       [6, 7, 3, 6],\n",
       "       [6, 8, 4, 7],\n",
       "       [7, 8, 5, 8]])"
      ]
     },
     "execution_count": 53,
     "metadata": {},
     "output_type": "execute_result"
    }
   ],
   "source": [
    "sol.grid.map"
   ]
  },
  {
   "cell_type": "code",
   "execution_count": 54,
   "metadata": {
    "executionInfo": {
     "elapsed": 277,
     "status": "ok",
     "timestamp": 1739532236349,
     "user": {
      "displayName": "Javid Shiriyev",
      "userId": "04377657040188470328"
     },
     "user_tz": -240
    },
    "id": "3b-srUTp-h3F"
   },
   "outputs": [],
   "source": [
    "for i in range(sol.grid.nums):\n",
    "  if sol.index[i]!=sol.grid.map[i,1]:\n",
    "    T[sol.index[i],sol.grid.map[i,1]] = 2/(1/sol.Tx[sol.index[i]]+1/sol.Tx[sol.grid.map[i,1]])\n",
    "  if sol.index[i]!=sol.grid.map[i,0]:\n",
    "    T[sol.index[i],sol.grid.map[i,0]] = 2/(1/sol.Tx[sol.index[i]]+1/sol.Tx[sol.grid.map[i,0]])\n",
    "  if sol.index[i]!=sol.grid.map[i,3]:\n",
    "    T[sol.index[i],sol.grid.map[i,3]] = 2/(1/sol.Ty[sol.index[i]]+1/sol.Ty[sol.grid.map[i,3]])\n",
    "  if sol.index[i]!=sol.grid.map[i,2]:\n",
    "    T[sol.index[i],sol.grid.map[i,2]] = 2/(1/sol.Ty[sol.index[i]]+1/sol.Ty[sol.grid.map[i,2]])"
   ]
  },
  {
   "cell_type": "code",
   "execution_count": 55,
   "metadata": {
    "executionInfo": {
     "elapsed": 301,
     "status": "ok",
     "timestamp": 1739532277994,
     "user": {
      "displayName": "Javid Shiriyev",
      "userId": "04377657040188470328"
     },
     "user_tz": -240
    },
    "id": "TZ61fD7HEAtQ"
   },
   "outputs": [],
   "source": [
    "import matplotlib.pyplot as plt"
   ]
  },
  {
   "cell_type": "code",
   "execution_count": 56,
   "metadata": {
    "colab": {
     "base_uri": "https://localhost:8080/",
     "height": 452
    },
    "executionInfo": {
     "elapsed": 821,
     "status": "ok",
     "timestamp": 1739532287338,
     "user": {
      "displayName": "Javid Shiriyev",
      "userId": "04377657040188470328"
     },
     "user_tz": -240
    },
    "id": "cLA4Xv7YM4Lw",
    "outputId": "6d5e3667-8b11-4b6a-e5d4-1dab5ba52510"
   },
   "outputs": [
    {
     "data": {
      "text/plain": [
       "<matplotlib.image.AxesImage at 0x248efe3d970>"
      ]
     },
     "execution_count": 56,
     "metadata": {},
     "output_type": "execute_result"
    },
    {
     "data": {
      "image/png": "[encoded data removed]",
      "text/plain": [
       "<Figure size 640x480 with 1 Axes>"
      ]
     },
     "metadata": {},
     "output_type": "display_data"
    }
   ],
   "source": [
    "plt.spy(T)"
   ]
  },
  {
   "cell_type": "code",
   "execution_count": 50,
   "metadata": {
    "executionInfo": {
     "elapsed": 275,
     "status": "ok",
     "timestamp": 1739532425936,
     "user": {
      "displayName": "Javid Shiriyev",
      "userId": "04377657040188470328"
     },
     "user_tz": -240
    },
    "id": "aG02uvv_NDga"
   },
   "outputs": [],
   "source": [
    "A = np.zeros((9,9))"
   ]
  },
  {
   "cell_type": "code",
   "execution_count": null,
   "metadata": {
    "id": "qpkxXzTaNlgG"
   },
   "outputs": [],
   "source": []
  }
 ],
 "metadata": {
  "colab": {
   "authorship_tag": "ABX9TyPpZ2UsxHPcD5Wu4UXQMMmu",
   "provenance": []
  },
  "kernelspec": {
   "display_name": "Python 3 (ipykernel)",
   "language": "python",
   "name": "python3"
  },
  "language_info": {
   "codemirror_mode": {
    "name": "ipython",
    "version": 3
   },
   "file_extension": ".py",
   "mimetype": "text/x-python",
   "name": "python",
   "nbconvert_exporter": "python",
   "pygments_lexer": "ipython3",
   "version": "3.12.4"
  }
 },
 "nbformat": 4,
 "nbformat_minor": 4
}
