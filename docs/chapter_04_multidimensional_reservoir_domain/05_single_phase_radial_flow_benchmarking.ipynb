{
 "cells": [
  {
   "cell_type": "code",
   "execution_count": 19,
   "metadata": {},
   "outputs": [],
   "source": [
    "import numpy as np"
   ]
  },
  {
   "cell_type": "code",
   "execution_count": 21,
   "metadata": {},
   "outputs": [],
   "source": [
    "import matplotlib.pyplot as plt"
   ]
  },
  {
   "cell_type": "code",
   "execution_count": 32,
   "metadata": {},
   "outputs": [],
   "source": [
    "from scipy import special"
   ]
  },
  {
   "cell_type": "code",
   "execution_count": null,
   "metadata": {},
   "outputs": [],
   "source": [
    "import respy"
   ]
  },
  {
   "cell_type": "code",
   "execution_count": 3,
   "metadata": {},
   "outputs": [],
   "source": [
    "rock = respy.RRock(xperm=200,yperm=200,zperm=200,poro=0.15)"
   ]
  },
  {
   "cell_type": "code",
   "execution_count": 4,
   "metadata": {},
   "outputs": [
    {
     "data": {
      "text/plain": [
       "array([0.15])"
      ]
     },
     "execution_count": 4,
     "metadata": {},
     "output_type": "execute_result"
    }
   ],
   "source": [
    "rock.poro"
   ]
  },
  {
   "cell_type": "code",
   "execution_count": 6,
   "metadata": {},
   "outputs": [
    {
     "data": {
      "text/plain": [
       "array([200.])"
      ]
     },
     "execution_count": 6,
     "metadata": {},
     "output_type": "execute_result"
    }
   ],
   "source": [
    "rock.xperm"
   ]
  },
  {
   "cell_type": "code",
   "execution_count": 7,
   "metadata": {},
   "outputs": [],
   "source": [
    "fluid = respy.Fluid(visc=1.5,fvf=1.2)"
   ]
  },
  {
   "cell_type": "code",
   "execution_count": 10,
   "metadata": {},
   "outputs": [
    {
     "data": {
      "text/plain": [
       "array([1.5])"
      ]
     },
     "execution_count": 10,
     "metadata": {},
     "output_type": "execute_result"
    }
   ],
   "source": [
    "fluid.visc"
   ]
  },
  {
   "cell_type": "code",
   "execution_count": 13,
   "metadata": {},
   "outputs": [],
   "source": [
    "well = respy.Well(0,orate=800*1.2,skin=0,radius=0.25)"
   ]
  },
  {
   "cell_type": "code",
   "execution_count": 15,
   "metadata": {},
   "outputs": [
    {
     "data": {
      "text/plain": [
       "960.0000000000001"
      ]
     },
     "execution_count": 15,
     "metadata": {},
     "output_type": "execute_result"
    }
   ],
   "source": [
    "well.cond"
   ]
  },
  {
   "cell_type": "code",
   "execution_count": 16,
   "metadata": {},
   "outputs": [
    {
     "data": {
      "text/plain": [
       "0"
      ]
     },
     "execution_count": 16,
     "metadata": {},
     "output_type": "execute_result"
    }
   ],
   "source": [
    "well.skin"
   ]
  },
  {
   "cell_type": "code",
   "execution_count": 17,
   "metadata": {},
   "outputs": [
    {
     "data": {
      "text/plain": [
       "0.25"
      ]
     },
     "execution_count": 17,
     "metadata": {},
     "output_type": "execute_result"
    }
   ],
   "source": [
    "well.radius"
   ]
  },
  {
   "cell_type": "code",
   "execution_count": 18,
   "metadata": {},
   "outputs": [
    {
     "data": {
      "text/plain": [
       "'orate'"
      ]
     },
     "execution_count": 18,
     "metadata": {},
     "output_type": "execute_result"
    }
   ],
   "source": [
    "well.sort"
   ]
  },
  {
   "cell_type": "code",
   "execution_count": 52,
   "metadata": {},
   "outputs": [],
   "source": [
    "class Reservoir():\n",
    "\n",
    "    def __init__(self,area,height,pinit):\n",
    "        self.area = area\n",
    "        self.radius = None\n",
    "        self.height = height\n",
    "        self.pinit = pinit\n",
    "\n",
    "    @property\n",
    "    def area(self):\n",
    "        return self._area/(43560*0.3048**2)\n",
    "\n",
    "    @area.setter\n",
    "    def area(self,value):\n",
    "        self._area = value*43560*0.3048**2\n",
    "        \n",
    "    @property\n",
    "    def radius(self):\n",
    "        return self._radius/0.3048\n",
    "\n",
    "    @radius.setter\n",
    "    def radius(self,value):\n",
    "        self._radius = np.sqrt(self._area/np.pi)\n",
    "\n",
    "    @property\n",
    "    def height(self):\n",
    "        return self._height/0.3048\n",
    "\n",
    "    @height.setter\n",
    "    def height(self,value):\n",
    "        self._height = value*0.3048\n",
    "\n",
    "    @property\n",
    "    def pinit(self):\n",
    "        return self._pinit/6894.76\n",
    "\n",
    "    @pinit.setter\n",
    "    def pinit(self,value):\n",
    "        self._pinit = value*6894.76"
   ]
  },
  {
   "cell_type": "code",
   "execution_count": 53,
   "metadata": {},
   "outputs": [],
   "source": [
    "res = Reservoir(40,30,4500)"
   ]
  },
  {
   "cell_type": "code",
   "execution_count": 54,
   "metadata": {},
   "outputs": [],
   "source": [
    "def pseudo(time,res,rock,fluid,well):\n",
    "\n",
    "    CA = 30.8828\n",
    "    _ct = 25e-6/6894.76\n",
    "    _time = time*(24*60*60)\n",
    "    \n",
    "    constant = (well._cond*fluid._fvf*fluid._visc)/(2*np.pi*rock._xperm*res._height)\n",
    "\n",
    "    gamma = 0.5772\n",
    "\n",
    "    inner = (4*res._area)/(np.exp(gamma)*well._radius**2*CA)\n",
    "\n",
    "    _rate_deltap = constant*(1/2*np.log(inner)+well.skin)\n",
    "\n",
    "    _Vp = res._area*res._height*rock.poro\n",
    "\n",
    "    _pss_deltap = (well._cond*fluid.fvf)/(_Vp*_ct)*_time\n",
    "    \n",
    "    return (res._pinit-_rate_deltap-_pss_deltap)/6894.76"
   ]
  },
  {
   "cell_type": "code",
   "execution_count": 55,
   "metadata": {},
   "outputs": [],
   "source": [
    "time = np.logspace(-5,1.5)"
   ]
  },
  {
   "cell_type": "code",
   "execution_count": 56,
   "metadata": {},
   "outputs": [
    {
     "data": {
      "text/plain": [
       "array([1.00000000e-05, 1.35722878e-05, 1.84206997e-05, 2.50011038e-05,\n",
       "       3.39322177e-05, 4.60537826e-05, 6.25055193e-05, 8.48342898e-05,\n",
       "       1.15139540e-04, 1.56270698e-04, 2.12095089e-04, 2.87861559e-04,\n",
       "       3.90693994e-04, 5.30261134e-04, 7.19685673e-04, 9.76778110e-04,\n",
       "       1.32571137e-03, 1.79929362e-03, 2.44205309e-03, 3.31442475e-03,\n",
       "       4.49843267e-03, 6.10540230e-03, 8.28642773e-03, 1.12465782e-02,\n",
       "       1.52641797e-02, 2.07169840e-02, 2.81176870e-02, 3.81621341e-02,\n",
       "       5.17947468e-02, 7.02973212e-02, 9.54095476e-02, 1.29492584e-01,\n",
       "       1.75751062e-01, 2.38534401e-01, 3.23745754e-01, 4.39397056e-01,\n",
       "       5.96362332e-01, 8.09400122e-01, 1.09854114e+00, 1.49097166e+00,\n",
       "       2.02358965e+00, 2.74647411e+00, 3.72759372e+00, 5.05919749e+00,\n",
       "       6.86648845e+00, 9.31939576e+00, 1.26485522e+01, 1.71669791e+01,\n",
       "       2.32995181e+01, 3.16227766e+01])"
      ]
     },
     "execution_count": 56,
     "metadata": {},
     "output_type": "execute_result"
    }
   ],
   "source": [
    "time"
   ]
  },
  {
   "cell_type": "code",
   "execution_count": 58,
   "metadata": {},
   "outputs": [],
   "source": [
    "pwf_pss = pseudo(time,res,rock,fluid,well)"
   ]
  },
  {
   "cell_type": "code",
   "execution_count": 59,
   "metadata": {},
   "outputs": [
    {
     "data": {
      "text/plain": [
       "array([4204.68831164, 4204.68819376, 4204.68803376, 4204.68781662,\n",
       "       4204.6875219 , 4204.6871219 , 4204.68657901, 4204.68584218,\n",
       "       4204.68484213, 4204.68348484, 4204.68164269, 4204.67914246,\n",
       "       4204.67574909, 4204.6711435 , 4204.66489266, 4204.65640885,\n",
       "       4204.64489437, 4204.62926659, 4204.60805612, 4204.57926866,\n",
       "       4204.54019748, 4204.48716896, 4204.41519712, 4204.31751488,\n",
       "       4204.18493772, 4204.00500018, 4203.76078378, 4203.42932625,\n",
       "       4202.97946255, 4202.36889458, 4201.54021417, 4200.41550526,\n",
       "       4198.88901796, 4196.81722545, 4194.00532903, 4190.18894227,\n",
       "       4185.00923231, 4177.97918087, 4168.43779271, 4155.48794606,\n",
       "       4137.91204146, 4114.05751786, 4081.68147181, 4037.73977024,\n",
       "       3978.10082809, 3897.15713923, 3787.2980349 , 3638.19409643,\n",
       "       3435.82593949, 3161.16605214])"
      ]
     },
     "execution_count": 59,
     "metadata": {},
     "output_type": "execute_result"
    }
   ],
   "source": [
    "pwf_pss"
   ]
  },
  {
   "cell_type": "code",
   "execution_count": 61,
   "metadata": {},
   "outputs": [
    {
     "data": {
      "image/png": "[encoded data removed]",
      "text/plain": [
       "<Figure size 640x480 with 1 Axes>"
      ]
     },
     "metadata": {},
     "output_type": "display_data"
    }
   ],
   "source": [
    "plt.semilogx(time,pwf)\n",
    "plt.show()"
   ]
  },
  {
   "cell_type": "code",
   "execution_count": 62,
   "metadata": {},
   "outputs": [],
   "source": [
    "def transient(time,res,rock,fluid,well):\n",
    "\n",
    "    _ct = 25e-6/6894.76\n",
    "    _time = time*(24*60*60)\n",
    "\n",
    "    constant = -(well._cond*fluid._fvf*fluid._visc)/(2*np.pi*rock._xperm*res._height)\n",
    "\n",
    "    _eta = rock._xperm/(rock._poro*fluid._visc*_ct)\n",
    "\n",
    "    inner = (-1/2*special.expi(-(well._radius**2)/(4*_eta*_time))+well.skin)\n",
    "\n",
    "    return (res._pinit+constant*inner)/6894.76"
   ]
  },
  {
   "cell_type": "code",
   "execution_count": 64,
   "metadata": {},
   "outputs": [],
   "source": [
    "pwf_transient = transient(time,res,rock,fluid,well)"
   ]
  },
  {
   "cell_type": "code",
   "execution_count": 65,
   "metadata": {},
   "outputs": [
    {
     "data": {
      "image/png": "[encoded data removed]",
      "text/plain": [
       "<Figure size 640x480 with 1 Axes>"
      ]
     },
     "metadata": {},
     "output_type": "display_data"
    }
   ],
   "source": [
    "plt.semilogx(time,pwf_pss,label=\"Pseudo-Steady-State\")\n",
    "plt.semilogx(time,pwf_transient,label=\"Transient State\")\n",
    "\n",
    "plt.legend()\n",
    "\n",
    "plt.show()"
   ]
  },
  {
   "cell_type": "code",
   "execution_count": null,
   "metadata": {},
   "outputs": [],
   "source": []
  }
 ],
 "metadata": {
  "colab": {
   "authorship_tag": "ABX9TyN2v2QpEiv3So44RcHOxfi8",
   "provenance": [],
   "toc_visible": true
  },
  "kernelspec": {
   "display_name": "Python 3 (ipykernel)",
   "language": "python",
   "name": "python3"
  },
  "language_info": {
   "codemirror_mode": {
    "name": "ipython",
    "version": 3
   },
   "file_extension": ".py",
   "mimetype": "text/x-python",
   "name": "python",
   "nbconvert_exporter": "python",
   "pygments_lexer": "ipython3",
   "version": "3.12.3"
  }
 },
 "nbformat": 4,
 "nbformat_minor": 4
}
