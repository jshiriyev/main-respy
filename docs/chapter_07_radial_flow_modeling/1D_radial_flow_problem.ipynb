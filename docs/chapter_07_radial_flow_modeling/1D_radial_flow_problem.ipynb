{
 "cells": [
  {
   "cell_type": "code",
   "execution_count": 1,
   "id": "143969c1-bc5e-47f5-b776-ed7a99164ee3",
   "metadata": {},
   "outputs": [],
   "source": [
    "import numpy as np"
   ]
  },
  {
   "cell_type": "code",
   "execution_count": 2,
   "id": "7e8678a6-3081-4d6f-83ec-e728a9f6d778",
   "metadata": {},
   "outputs": [],
   "source": [
    "import matplotlib.pyplot as plt"
   ]
  },
  {
   "cell_type": "markdown",
   "id": "544709ee-b9f2-4ac5-88c1-cd1d270b1fd7",
   "metadata": {},
   "source": [
    "# inputs"
   ]
  },
  {
   "cell_type": "code",
   "execution_count": 29,
   "id": "12acf717-f33d-484b-ad27-a3d6d9a32223",
   "metadata": {},
   "outputs": [],
   "source": [
    "qw = 5000\n",
    "rw = 0.25\n",
    "re = 1000\n",
    "pinit = 3000\n",
    "perm = 50\n",
    "poro = 0.2\n",
    "height = 100\n",
    "ct = 1e-5\n",
    "N = 4\n",
    "delta_time = 1\n",
    "visc = 5"
   ]
  },
  {
   "cell_type": "code",
   "execution_count": 25,
   "id": "c1e4cd2d-bf4c-4e9a-8e83-c0cbc26e7178",
   "metadata": {},
   "outputs": [],
   "source": [
    "def gamma(rw,re,N):\n",
    "    return (re/rw)**(1/N)"
   ]
  },
  {
   "cell_type": "code",
   "execution_count": 26,
   "id": "78d0e801-6b6a-4927-a2c2-7d9ea72bbacd",
   "metadata": {},
   "outputs": [],
   "source": [
    "def r(rw,gamma,N):\n",
    "    r1 = (rw*np.log(gamma)/(1-1/gamma)).tolist()\n",
    "    return [r1*gamma**i for i in range(-1,N+1)]"
   ]
  },
  {
   "cell_type": "code",
   "execution_count": 34,
   "id": "085bbe4c-9103-4495-abd0-51c72d10a99f",
   "metadata": {},
   "outputs": [],
   "source": [
    "def flow(visc,perm,deltaz,deltat,gamma):\n",
    "    return (perm/visc*deltaz*deltat/np.log(gamma)).tolist()"
   ]
  },
  {
   "cell_type": "code",
   "execution_count": 43,
   "id": "54be5e1f-bac8-40d5-92e8-17c5e3d00047",
   "metadata": {},
   "outputs": [],
   "source": [
    "def storage(poro,deltat,deltaz,delta_time,rvalues):\n",
    "    gamma = rvalues[1]/rvalues[0]\n",
    "    lhs = (poro*deltat*deltaz)/(2*delta_time)\n",
    "    rvalues = np.asarray(rvalues)\n",
    "    rhs = (rvalues[2:]**2-2*rvalues[1:-1]**2+rvalues[:-2]**2)/(2*np.log(gamma))\n",
    "    return lhs*rhs"
   ]
  },
  {
   "cell_type": "code",
   "execution_count": 44,
   "id": "2eaa627d-c8cb-42d6-b719-f9f30b38cb80",
   "metadata": {},
   "outputs": [],
   "source": [
    "gm = gamma(rw,re,N)\n",
    "rv = r(rw,gm,N)"
   ]
  },
  {
   "cell_type": "code",
   "execution_count": 48,
   "id": "9162b2b3-730b-4cf0-b39d-9634ad94376e",
   "metadata": {},
   "outputs": [],
   "source": [
    "t = flow(visc,perm,height,2*np.pi,gm)"
   ]
  },
  {
   "cell_type": "code",
   "execution_count": 49,
   "id": "0b1b09dd-49ef-4550-859f-9d4a08cf1889",
   "metadata": {},
   "outputs": [],
   "source": [
    "a = storage(poro,2*np.pi,height,delta_time,rv)"
   ]
  },
  {
   "cell_type": "code",
   "execution_count": 75,
   "id": "3ade2bdf-5103-49f5-88ef-f57aa47c5ba4",
   "metadata": {},
   "outputs": [],
   "source": [
    "T = np.zeros((N,N))\n",
    "A = np.zeros((N,N))\n",
    "Q = np.zeros((N,1))\n",
    "P = np.ones((N,1))*pinit"
   ]
  },
  {
   "cell_type": "code",
   "execution_count": 76,
   "id": "8d910a9a-df23-41be-8923-9847c0ca0a5d",
   "metadata": {},
   "outputs": [],
   "source": [
    "for i in range(N):\n",
    "    if i>0:\n",
    "        T[i,i-1] = -t\n",
    "        T[i,i] += t\n",
    "    if i<N-1:\n",
    "        T[i,i+1] = -t\n",
    "        T[i,i] += t\n",
    "        \n",
    "A = np.diag(a*ct)\n",
    "\n",
    "Q[0] = -5000"
   ]
  },
  {
   "cell_type": "code",
   "execution_count": 77,
   "id": "9a274921-c5c4-4a44-80da-64bc9ceba775",
   "metadata": {},
   "outputs": [
    {
     "data": {
      "text/plain": [
       "array([[ 19.18135149, -19.18135149,   0.        ,   0.        ],\n",
       "       [-19.18135149,  38.36270298, -19.18135149,   0.        ],\n",
       "       [  0.        , -19.18135149,  38.36270298, -19.18135149],\n",
       "       [  0.        ,   0.        , -19.18135149,  19.18135149]])"
      ]
     },
     "execution_count": 77,
     "metadata": {},
     "output_type": "execute_result"
    }
   ],
   "source": [
    "T = T*19.18/3030; T"
   ]
  },
  {
   "cell_type": "code",
   "execution_count": 78,
   "id": "728cd16c-4896-45c1-9a00-72dd0c36581f",
   "metadata": {},
   "outputs": [
    {
     "data": {
      "text/plain": [
       "array([[3.26321208e-03, 0.00000000e+00, 0.00000000e+00, 0.00000000e+00],\n",
       "       [0.00000000e+00, 2.06383653e-01, 0.00000000e+00, 0.00000000e+00],\n",
       "       [0.00000000e+00, 0.00000000e+00, 1.30528483e+01, 0.00000000e+00],\n",
       "       [0.00000000e+00, 0.00000000e+00, 0.00000000e+00, 8.25534612e+02]])"
      ]
     },
     "execution_count": 78,
     "metadata": {},
     "output_type": "execute_result"
    }
   ],
   "source": [
    "A"
   ]
  },
  {
   "cell_type": "code",
   "execution_count": 79,
   "id": "c8e462a9-a5a6-47db-b145-3c72598fd7da",
   "metadata": {},
   "outputs": [
    {
     "data": {
      "text/plain": [
       "array([[-5000.],\n",
       "       [    0.],\n",
       "       [    0.],\n",
       "       [    0.]])"
      ]
     },
     "execution_count": 79,
     "metadata": {},
     "output_type": "execute_result"
    }
   ],
   "source": [
    "Q"
   ]
  },
  {
   "cell_type": "code",
   "execution_count": 80,
   "id": "7c3ed40d-9de2-453d-a6af-4b4db8b13959",
   "metadata": {},
   "outputs": [
    {
     "data": {
      "text/plain": [
       "array([[3000.],\n",
       "       [3000.],\n",
       "       [3000.],\n",
       "       [3000.]])"
      ]
     },
     "execution_count": 80,
     "metadata": {},
     "output_type": "execute_result"
    }
   ],
   "source": [
    "P"
   ]
  },
  {
   "cell_type": "code",
   "execution_count": 82,
   "id": "f3ab3a4e-c1e5-4514-8dee-c7475e38141f",
   "metadata": {},
   "outputs": [
    {
     "name": "stdout",
     "output_type": "stream",
     "text": [
      "[[2328.8016828 ]\n",
      " [2589.35734487]\n",
      " [2845.49465658]\n",
      " [2996.49157654]]\n",
      "[[2257.19570754]\n",
      " [2517.85337479]\n",
      " [2777.74168797]\n",
      " [2991.52432284]]\n",
      "[[2225.74703878]\n",
      " [2486.41153776]\n",
      " [2746.73773516]\n",
      " [2985.9658419 ]]\n"
     ]
    }
   ],
   "source": [
    "for _ in range(3):\n",
    "    P = np.linalg.solve(T+A,np.dot(A,P)+Q)\n",
    "    print(P)"
   ]
  },
  {
   "cell_type": "code",
   "execution_count": null,
   "id": "276daacd-f263-4a39-a396-94a4b7cc1530",
   "metadata": {},
   "outputs": [],
   "source": []
  }
 ],
 "metadata": {
  "kernelspec": {
   "display_name": "Python 3 (ipykernel)",
   "language": "python",
   "name": "python3"
  },
  "language_info": {
   "codemirror_mode": {
    "name": "ipython",
    "version": 3
   },
   "file_extension": ".py",
   "mimetype": "text/x-python",
   "name": "python",
   "nbconvert_exporter": "python",
   "pygments_lexer": "ipython3",
   "version": "3.12.3"
  }
 },
 "nbformat": 4,
 "nbformat_minor": 5
}
