{
 "cells": [
  {
   "cell_type": "code",
   "execution_count": 1,
   "id": "b509f692-966e-448e-9ba4-0ea39c7b3a79",
   "metadata": {},
   "outputs": [],
   "source": [
    "import matplotlib.pyplot as plt"
   ]
  },
  {
   "cell_type": "code",
   "execution_count": 2,
   "id": "143969c1-bc5e-47f5-b776-ed7a99164ee3",
   "metadata": {},
   "outputs": [],
   "source": [
    "import numpy as np"
   ]
  },
  {
   "cell_type": "markdown",
   "id": "544709ee-b9f2-4ac5-88c1-cd1d270b1fd7",
   "metadata": {},
   "source": [
    "# 1D Radial Flow Problem"
   ]
  },
  {
   "cell_type": "markdown",
   "id": "6f18f696-1a95-48cc-800f-5d4e10278435",
   "metadata": {},
   "source": [
    "Grid Settings:"
   ]
  },
  {
   "cell_type": "code",
   "execution_count": 3,
   "id": "4b21232c-4a73-46cd-8595-92e84e149ac8",
   "metadata": {},
   "outputs": [],
   "source": [
    "rw = 0.25 #ft\n",
    "re = 1000 #ft\n",
    "N = 4\n",
    "height = 100 #ft"
   ]
  },
  {
   "cell_type": "markdown",
   "id": "aa87dfe6-ce0a-4d16-933c-b5d206d69a71",
   "metadata": {},
   "source": [
    "Rock and Fluid Properties:"
   ]
  },
  {
   "cell_type": "code",
   "execution_count": 4,
   "id": "5ed2d358-0a71-4517-b1a1-99dde1781833",
   "metadata": {},
   "outputs": [],
   "source": [
    "perm = 50 #mD\n",
    "poro = 0.2\n",
    "visc = 5 #cp"
   ]
  },
  {
   "cell_type": "markdown",
   "id": "6e5e3812-fa62-4a76-8e95-0e10b68ac62d",
   "metadata": {},
   "source": [
    "Well Constraint:"
   ]
  },
  {
   "cell_type": "code",
   "execution_count": 5,
   "id": "12acf717-f33d-484b-ad27-a3d6d9a32223",
   "metadata": {},
   "outputs": [],
   "source": [
    "qw = 5000 #ft3/day"
   ]
  },
  {
   "cell_type": "markdown",
   "id": "026f74ef-614d-4c99-964e-23b702387731",
   "metadata": {},
   "source": [
    "Numerical Settings:"
   ]
  },
  {
   "cell_type": "code",
   "execution_count": 6,
   "id": "ff68d703-5546-4454-8710-ca2675566a2f",
   "metadata": {},
   "outputs": [],
   "source": [
    "delta_time = 1 #day"
   ]
  },
  {
   "cell_type": "markdown",
   "id": "0b314f18-2410-4a83-8d2e-f033a60f9b18",
   "metadata": {},
   "source": [
    "Reservoir Initialization"
   ]
  },
  {
   "cell_type": "code",
   "execution_count": 7,
   "id": "05b3c150-ba62-4400-bcf4-f1cf39a5072f",
   "metadata": {},
   "outputs": [],
   "source": [
    "pinit = 3000 #psi"
   ]
  },
  {
   "cell_type": "markdown",
   "id": "0316b806-af9b-4b51-ae91-f992d9c9750e",
   "metadata": {},
   "source": [
    "Block Properties:"
   ]
  },
  {
   "cell_type": "code",
   "execution_count": 8,
   "id": "03f0cc96-d7d5-46ba-81f1-d430fbf2c2b4",
   "metadata": {},
   "outputs": [],
   "source": [
    "ct = 1e-5 #1/psi"
   ]
  },
  {
   "cell_type": "markdown",
   "id": "c8e198ee-9b6f-4a6a-8ade-2ed80a5aa654",
   "metadata": {},
   "source": [
    "## Gridding"
   ]
  },
  {
   "cell_type": "code",
   "execution_count": 9,
   "id": "c1e4cd2d-bf4c-4e9a-8e83-c0cbc26e7178",
   "metadata": {},
   "outputs": [],
   "source": [
    "gamma = (re/rw)**(1/N)\n",
    "r0 = (rw*np.log(gamma)/(1-1/gamma)).tolist()\n",
    "radius = r0*gamma**np.arange(-1,N+1)"
   ]
  },
  {
   "cell_type": "code",
   "execution_count": 10,
   "id": "680c6ee2-80b6-417e-951d-191e17884824",
   "metadata": {},
   "outputs": [
    {
     "data": {
      "text/plain": [
       "array([7.45577343e-02, 5.92935837e-01, 4.71544515e+00, 3.75005550e+01,\n",
       "       2.98230937e+02, 2.37174335e+03])"
      ]
     },
     "execution_count": 10,
     "metadata": {},
     "output_type": "execute_result"
    }
   ],
   "source": [
    "radius"
   ]
  },
  {
   "cell_type": "markdown",
   "id": "9b06169b-5cdf-476b-a93e-a1657767a58d",
   "metadata": {},
   "source": [
    "## Array Calculations"
   ]
  },
  {
   "cell_type": "code",
   "execution_count": 11,
   "id": "085bbe4c-9103-4495-abd0-51c72d10a99f",
   "metadata": {},
   "outputs": [],
   "source": [
    "def flow(gamma,deltat,deltaz,perm,visc):\n",
    "    return (perm/visc*deltaz*deltat/np.log(gamma)).tolist()"
   ]
  },
  {
   "cell_type": "code",
   "execution_count": 12,
   "id": "54be5e1f-bac8-40d5-92e8-17c5e3d00047",
   "metadata": {},
   "outputs": [],
   "source": [
    "def storage(radius,deltat,deltaz,poro,delta_time):\n",
    "    lhs = (poro*deltat*deltaz)/(2*delta_time)\n",
    "    gamma = radius[1]/radius[0]\n",
    "    radius = np.asarray(radius)\n",
    "    rhs = (radius[2:]**2-2*radius[1:-1]**2+radius[:-2]**2)/(2*np.log(gamma))\n",
    "    return lhs*rhs"
   ]
  },
  {
   "cell_type": "code",
   "execution_count": 13,
   "id": "9162b2b3-730b-4cf0-b39d-9634ad94376e",
   "metadata": {},
   "outputs": [],
   "source": [
    "t = flow(gamma,2*np.pi,height,perm,visc)*1.06235016e-14/1.4503774389728e-7*24*60*60"
   ]
  },
  {
   "cell_type": "code",
   "execution_count": 14,
   "id": "1477929a-f572-4d2c-8f44-cc0c91fa6e15",
   "metadata": {},
   "outputs": [
    {
     "data": {
      "text/plain": [
       "19.176688949192048"
      ]
     },
     "execution_count": 14,
     "metadata": {},
     "output_type": "execute_result"
    }
   ],
   "source": [
    "t"
   ]
  },
  {
   "cell_type": "code",
   "execution_count": 15,
   "id": "0b1b09dd-49ef-4550-859f-9d4a08cf1889",
   "metadata": {},
   "outputs": [],
   "source": [
    "a = storage(radius,2*np.pi,height,poro,delta_time)"
   ]
  },
  {
   "cell_type": "code",
   "execution_count": 16,
   "id": "32712e95-e99b-47a5-a2db-8cd2ee1e282b",
   "metadata": {},
   "outputs": [
    {
     "data": {
      "text/plain": [
       "array([3.26321208e+02, 2.06383653e+04, 1.30528483e+06, 8.25534612e+07])"
      ]
     },
     "execution_count": 16,
     "metadata": {},
     "output_type": "execute_result"
    }
   ],
   "source": [
    "a"
   ]
  },
  {
   "cell_type": "markdown",
   "id": "36b7bf97-9979-4c36-aed6-4f421691317f",
   "metadata": {},
   "source": [
    "## Array Assembly"
   ]
  },
  {
   "cell_type": "code",
   "execution_count": 17,
   "id": "3ade2bdf-5103-49f5-88ef-f57aa47c5ba4",
   "metadata": {},
   "outputs": [],
   "source": [
    "T = np.zeros((N,N))\n",
    "A = np.zeros((N,N))\n",
    "Q = np.zeros((N,1))\n",
    "P = np.ones((N,1))*pinit"
   ]
  },
  {
   "cell_type": "code",
   "execution_count": 18,
   "id": "8d910a9a-df23-41be-8923-9847c0ca0a5d",
   "metadata": {},
   "outputs": [],
   "source": [
    "for i in range(N):\n",
    "    if i>0:\n",
    "        T[i,i-1] = -t\n",
    "        T[i,i] += t\n",
    "    if i<N-1:\n",
    "        T[i,i+1] = -t\n",
    "        T[i,i] += t\n",
    "        \n",
    "A = np.diag(a*ct)\n",
    "\n",
    "Q[0] = -5000"
   ]
  },
  {
   "cell_type": "code",
   "execution_count": 19,
   "id": "9a274921-c5c4-4a44-80da-64bc9ceba775",
   "metadata": {},
   "outputs": [
    {
     "data": {
      "text/plain": [
       "array([[ 19.17668895, -19.17668895,   0.        ,   0.        ],\n",
       "       [-19.17668895,  38.3533779 , -19.17668895,   0.        ],\n",
       "       [  0.        , -19.17668895,  38.3533779 , -19.17668895],\n",
       "       [  0.        ,   0.        , -19.17668895,  19.17668895]])"
      ]
     },
     "execution_count": 19,
     "metadata": {},
     "output_type": "execute_result"
    }
   ],
   "source": [
    "T"
   ]
  },
  {
   "cell_type": "code",
   "execution_count": 20,
   "id": "728cd16c-4896-45c1-9a00-72dd0c36581f",
   "metadata": {},
   "outputs": [
    {
     "data": {
      "text/plain": [
       "array([[3.26321208e-03, 0.00000000e+00, 0.00000000e+00, 0.00000000e+00],\n",
       "       [0.00000000e+00, 2.06383653e-01, 0.00000000e+00, 0.00000000e+00],\n",
       "       [0.00000000e+00, 0.00000000e+00, 1.30528483e+01, 0.00000000e+00],\n",
       "       [0.00000000e+00, 0.00000000e+00, 0.00000000e+00, 8.25534612e+02]])"
      ]
     },
     "execution_count": 20,
     "metadata": {},
     "output_type": "execute_result"
    }
   ],
   "source": [
    "A"
   ]
  },
  {
   "cell_type": "code",
   "execution_count": 21,
   "id": "c8e462a9-a5a6-47db-b145-3c72598fd7da",
   "metadata": {},
   "outputs": [
    {
     "data": {
      "text/plain": [
       "array([[-5000.],\n",
       "       [    0.],\n",
       "       [    0.],\n",
       "       [    0.]])"
      ]
     },
     "execution_count": 21,
     "metadata": {},
     "output_type": "execute_result"
    }
   ],
   "source": [
    "Q"
   ]
  },
  {
   "cell_type": "code",
   "execution_count": 22,
   "id": "7c3ed40d-9de2-453d-a6af-4b4db8b13959",
   "metadata": {},
   "outputs": [
    {
     "data": {
      "text/plain": [
       "array([[3000.],\n",
       "       [3000.],\n",
       "       [3000.],\n",
       "       [3000.]])"
      ]
     },
     "execution_count": 22,
     "metadata": {},
     "output_type": "execute_result"
    }
   ],
   "source": [
    "P"
   ]
  },
  {
   "cell_type": "code",
   "execution_count": 23,
   "id": "f3ab3a4e-c1e5-4514-8dee-c7475e38141f",
   "metadata": {},
   "outputs": [
    {
     "name": "stdout",
     "output_type": "stream",
     "text": [
      "For time step 0:\n",
      " [[2328.6559027 ]\n",
      " [2589.27489042]\n",
      " [2845.47356613]\n",
      " [2996.4919312 ]]\n",
      "For time step 1:\n",
      " [[2257.03040039]\n",
      " [2517.75143957]\n",
      " [2777.70272798]\n",
      " [2991.52496499]]\n",
      "For time step 2:\n",
      " [[2225.57066106]\n",
      " [2486.29853506]\n",
      " [2746.68790614]\n",
      " [2985.96665872]]\n"
     ]
    }
   ],
   "source": [
    "for index in range(3):\n",
    "    P = np.linalg.solve(T+A,np.dot(A,P)+Q)\n",
    "    print(f\"For time step {index}:\\n\",P)"
   ]
  },
  {
   "cell_type": "markdown",
   "id": "f638d8e3-8f48-4edd-add0-4b7ae35fb0d6",
   "metadata": {},
   "source": [
    "## General Solution"
   ]
  },
  {
   "cell_type": "code",
   "execution_count": 24,
   "id": "326d37a0-2106-46ed-aea8-8e6fac0fc25e",
   "metadata": {},
   "outputs": [],
   "source": [
    "def solver(rw,re,N,days):\n",
    "    \n",
    "    gamma = (re/rw)**(1/N)\n",
    "    r0 = (rw*np.log(gamma)/(1-1/gamma)).tolist()\n",
    "    radius = r0*gamma**np.arange(-1,N+1)\n",
    "\n",
    "    t = flow(gamma,2*np.pi,height,perm,visc)*1.06235016e-14/1.4503774389728e-7*24*60*60\n",
    "    a = storage(radius,2*np.pi,height,poro,delta_time)\n",
    "\n",
    "    T = np.zeros((N,N))\n",
    "    A = np.zeros((N,N))\n",
    "    Q = np.zeros((N,1))\n",
    "    P = np.ones((N,1))*pinit\n",
    "\n",
    "    for i in range(N):\n",
    "        if i>0:\n",
    "            T[i,i-1] = -t\n",
    "            T[i,i] += t\n",
    "        if i<N-1:\n",
    "            T[i,i+1] = -t\n",
    "            T[i,i] += t\n",
    "            \n",
    "    A = np.diag(a*ct)\n",
    "    \n",
    "    Q[0] = -5000\n",
    "\n",
    "    for index in range(days):\n",
    "        P = np.linalg.solve(T+A,np.dot(A,P)+Q)\n",
    "        \n",
    "    return radius,P"
   ]
  },
  {
   "cell_type": "markdown",
   "id": "560d820e-726e-4b8f-91ba-18c0daf9d8a8",
   "metadata": {},
   "source": [
    "### Pressure Distribution for Constant Flow Rate Well and Bounded (No-Flux) Reservoir"
   ]
  },
  {
   "cell_type": "code",
   "execution_count": 39,
   "id": "ee9ce4a6-9548-4406-9287-bed8a89d047e",
   "metadata": {},
   "outputs": [
    {
     "data": {
      "image/png": "[encoded data removed]",
      "text/plain": [
       "<Figure size 640x480 with 1 Axes>"
      ]
     },
     "metadata": {},
     "output_type": "display_data"
    }
   ],
   "source": [
    "radius1,pressure1 = solver(0.25,1000,50,1)\n",
    "radius2,pressure2 = solver(0.25,1000,50,10)\n",
    "radius3,pressure3 = solver(0.25,1000,50,50)\n",
    "radius4,pressure4 = solver(0.25,1000,50,100)\n",
    "\n",
    "plt.plot(radius1[1:-1],pressure1,label=\"1 Day\")\n",
    "plt.plot(radius2[1:-1],pressure2,label=\"10 Days\")\n",
    "plt.plot(radius3[1:-1],pressure3,label=\"50 Days\")\n",
    "plt.plot(radius4[1:-1],pressure4,label=\"100 Days\")\n",
    "\n",
    "plt.xlabel(\"radius, ft\")\n",
    "plt.ylabel(\"Pressure, psi\")\n",
    "\n",
    "plt.legend()\n",
    "\n",
    "plt.show()"
   ]
  },
  {
   "cell_type": "code",
   "execution_count": null,
   "id": "fa7763cb-7cff-4ebd-9ecb-07756ac7204c",
   "metadata": {},
   "outputs": [],
   "source": []
  }
 ],
 "metadata": {
  "kernelspec": {
   "display_name": "Python 3 (ipykernel)",
   "language": "python",
   "name": "python3"
  },
  "language_info": {
   "codemirror_mode": {
    "name": "ipython",
    "version": 3
   },
   "file_extension": ".py",
   "mimetype": "text/x-python",
   "name": "python",
   "nbconvert_exporter": "python",
   "pygments_lexer": "ipython3",
   "version": "3.12.3"
  }
 },
 "nbformat": 4,
 "nbformat_minor": 5
}
