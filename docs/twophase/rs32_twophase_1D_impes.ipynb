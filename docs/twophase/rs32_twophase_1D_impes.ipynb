{
 "cells": [
  {
   "cell_type": "code",
   "execution_count": 1,
   "metadata": {
    "executionInfo": {
     "elapsed": 2,
     "status": "ok",
     "timestamp": 1711698442697,
     "user": {
      "displayName": "Javid Shiriyev",
      "userId": "04377657040188470328"
     },
     "user_tz": -240
    },
    "id": "sFmMqc6D5gUW"
   },
   "outputs": [],
   "source": [
    "import numpy as np"
   ]
  },
  {
   "cell_type": "code",
   "execution_count": 2,
   "metadata": {
    "executionInfo": {
     "elapsed": 4,
     "status": "ok",
     "timestamp": 1711698443475,
     "user": {
      "displayName": "Javid Shiriyev",
      "userId": "04377657040188470328"
     },
     "user_tz": -240
    },
    "id": "dwDgK3dh8Hxz"
   },
   "outputs": [],
   "source": [
    "area = 20*1000\n",
    "edge = 1000"
   ]
  },
  {
   "cell_type": "code",
   "execution_count": 3,
   "metadata": {
    "executionInfo": {
     "elapsed": 4,
     "status": "ok",
     "timestamp": 1711698443476,
     "user": {
      "displayName": "Javid Shiriyev",
      "userId": "04377657040188470328"
     },
     "user_tz": -240
    },
    "id": "juKTlnIe53ds"
   },
   "outputs": [],
   "source": [
    "rock_poro = 0.2\n",
    "rock_perm = 100\n",
    "rock_comp = 1e-6"
   ]
  },
  {
   "cell_type": "code",
   "execution_count": 4,
   "metadata": {
    "executionInfo": {
     "elapsed": 4,
     "status": "ok",
     "timestamp": 1711698443476,
     "user": {
      "displayName": "Javid Shiriyev",
      "userId": "04377657040188470328"
     },
     "user_tz": -240
    },
    "id": "MfJ0oPjz6Et7"
   },
   "outputs": [],
   "source": [
    "oil_mu = 5\n",
    "oil_comp = 1e-5\n",
    "oil_fvf = 1"
   ]
  },
  {
   "cell_type": "code",
   "execution_count": 5,
   "metadata": {
    "executionInfo": {
     "elapsed": 3,
     "status": "ok",
     "timestamp": 1711698443476,
     "user": {
      "displayName": "Javid Shiriyev",
      "userId": "04377657040188470328"
     },
     "user_tz": -240
    },
    "id": "G_RXMcIg6aOb"
   },
   "outputs": [],
   "source": [
    "wat_mu = 0.5\n",
    "wat_comp = 1e-6\n",
    "wat_fvf = 1"
   ]
  },
  {
   "cell_type": "code",
   "execution_count": 6,
   "metadata": {
    "executionInfo": {
     "elapsed": 3,
     "status": "ok",
     "timestamp": 1711698443476,
     "user": {
      "displayName": "Javid Shiriyev",
      "userId": "04377657040188470328"
     },
     "user_tz": -240
    },
    "id": "BgwRZIYh6uDr"
   },
   "outputs": [],
   "source": [
    "init_press = 3000\n",
    "init_swater = 0.2"
   ]
  },
  {
   "cell_type": "code",
   "execution_count": 7,
   "metadata": {
    "executionInfo": {
     "elapsed": 3,
     "status": "ok",
     "timestamp": 1711698443476,
     "user": {
      "displayName": "Javid Shiriyev",
      "userId": "04377657040188470328"
     },
     "user_tz": -240
    },
    "id": "cKptnZz4949y"
   },
   "outputs": [],
   "source": [
    "def krw(Sw):\n",
    "  return 0.2*((Sw-0.1)/(1-0.1-0.2))**2"
   ]
  },
  {
   "cell_type": "code",
   "execution_count": 8,
   "metadata": {
    "executionInfo": {
     "elapsed": 769,
     "status": "ok",
     "timestamp": 1711698444243,
     "user": {
      "displayName": "Javid Shiriyev",
      "userId": "04377657040188470328"
     },
     "user_tz": -240
    },
    "id": "-E78Mx7X-MVp"
   },
   "outputs": [],
   "source": [
    "def kro(Sw):\n",
    "  return 1.0*(1.0-(Sw-0.1)/(1-0.1-0.2))**2"
   ]
  },
  {
   "cell_type": "markdown",
   "metadata": {
    "id": "bi7lYL_VDDqi"
   },
   "source": [
    "# IMPES"
   ]
  },
  {
   "cell_type": "code",
   "execution_count": 9,
   "metadata": {
    "executionInfo": {
     "elapsed": 15,
     "status": "ok",
     "timestamp": 1711698444243,
     "user": {
      "displayName": "Javid Shiriyev",
      "userId": "04377657040188470328"
     },
     "user_tz": -240
    },
    "id": "GtVHJgjDDJ06"
   },
   "outputs": [],
   "source": [
    "tdelta = 1.0"
   ]
  },
  {
   "cell_type": "code",
   "execution_count": 10,
   "metadata": {
    "executionInfo": {
     "elapsed": 15,
     "status": "ok",
     "timestamp": 1711698444243,
     "user": {
      "displayName": "Javid Shiriyev",
      "userId": "04377657040188470328"
     },
     "user_tz": -240
    },
    "id": "KxKdEv0KECpn"
   },
   "outputs": [],
   "source": [
    "Rock = (rock_perm*area)/edge*1.06235016e-14"
   ]
  },
  {
   "cell_type": "code",
   "execution_count": 11,
   "metadata": {
    "colab": {
     "base_uri": "https://localhost:8080/"
    },
    "executionInfo": {
     "elapsed": 16,
     "status": "ok",
     "timestamp": 1711698444244,
     "user": {
      "displayName": "Javid Shiriyev",
      "userId": "04377657040188470328"
     },
     "user_tz": -240
    },
    "id": "tabzEZUrEgCA",
    "outputId": "8cd5b438-3c1e-42d0-b3d8-bb62fdc2d161"
   },
   "outputs": [
    {
     "data": {
      "text/plain": [
       "2.12470032e-11"
      ]
     },
     "execution_count": 11,
     "metadata": {},
     "output_type": "execute_result"
    }
   ],
   "source": [
    "Rock"
   ]
  },
  {
   "cell_type": "code",
   "execution_count": 12,
   "metadata": {
    "executionInfo": {
     "elapsed": 15,
     "status": "ok",
     "timestamp": 1711698444244,
     "user": {
      "displayName": "Javid Shiriyev",
      "userId": "04377657040188470328"
     },
     "user_tz": -240
    },
    "id": "WVSIjULKDpsA"
   },
   "outputs": [],
   "source": [
    "Mw = krw(init_swater)/(wat_mu*wat_fvf)*(24*60*60)/1.4503774389728e-7\n",
    "Tw = Rock*Mw"
   ]
  },
  {
   "cell_type": "code",
   "execution_count": 13,
   "metadata": {
    "colab": {
     "base_uri": "https://localhost:8080/"
    },
    "executionInfo": {
     "elapsed": 15,
     "status": "ok",
     "timestamp": 1711698444244,
     "user": {
      "displayName": "Javid Shiriyev",
      "userId": "04377657040188470328"
     },
     "user_tz": -240
    },
    "id": "pKGoiieFEnbI",
    "outputId": "9cb0f738-c1a7-4056-c66a-c831c91dfcc8"
   },
   "outputs": [
    {
     "data": {
      "text/plain": [
       "0.10332235622243502"
      ]
     },
     "execution_count": 13,
     "metadata": {},
     "output_type": "execute_result"
    }
   ],
   "source": [
    "Tw"
   ]
  },
  {
   "cell_type": "code",
   "execution_count": 14,
   "metadata": {
    "executionInfo": {
     "elapsed": 14,
     "status": "ok",
     "timestamp": 1711698444244,
     "user": {
      "displayName": "Javid Shiriyev",
      "userId": "04377657040188470328"
     },
     "user_tz": -240
    },
    "id": "i4yVOiSY8B_q"
   },
   "outputs": [],
   "source": [
    "Mo = kro(init_swater)/(oil_mu*oil_fvf)*(24*60*60)/1.4503774389728e-7\n",
    "To = Rock*Mo"
   ]
  },
  {
   "cell_type": "code",
   "execution_count": 15,
   "metadata": {
    "executionInfo": {
     "elapsed": 14,
     "status": "ok",
     "timestamp": 1711698444244,
     "user": {
      "displayName": "Javid Shiriyev",
      "userId": "04377657040188470328"
     },
     "user_tz": -240
    },
    "id": "Yfiz4ROU-t9L"
   },
   "outputs": [],
   "source": [
    "T = Tw+To"
   ]
  },
  {
   "cell_type": "code",
   "execution_count": 16,
   "metadata": {
    "colab": {
     "base_uri": "https://localhost:8080/"
    },
    "executionInfo": {
     "elapsed": 13,
     "status": "ok",
     "timestamp": 1711698444244,
     "user": {
      "displayName": "Javid Shiriyev",
      "userId": "04377657040188470328"
     },
     "user_tz": -240
    },
    "id": "XO_fOD3rEro4",
    "outputId": "f5c051ef-f7a5-4a6e-b804-2eee1b8f8cb3"
   },
   "outputs": [
    {
     "data": {
      "text/plain": [
       "1.9631247682262647"
      ]
     },
     "execution_count": 16,
     "metadata": {},
     "output_type": "execute_result"
    }
   ],
   "source": [
    "T"
   ]
  },
  {
   "cell_type": "code",
   "execution_count": 17,
   "metadata": {
    "executionInfo": {
     "elapsed": 13,
     "status": "ok",
     "timestamp": 1711698444244,
     "user": {
      "displayName": "Javid Shiriyev",
      "userId": "04377657040188470328"
     },
     "user_tz": -240
    },
    "id": "BpQstkvM-yZC"
   },
   "outputs": [],
   "source": [
    "def ct(cr,co,cw,Sw):\n",
    "  return cr+Sw*cw+(1-Sw)*co"
   ]
  },
  {
   "cell_type": "code",
   "execution_count": 18,
   "metadata": {
    "executionInfo": {
     "elapsed": 13,
     "status": "ok",
     "timestamp": 1711698444244,
     "user": {
      "displayName": "Javid Shiriyev",
      "userId": "04377657040188470328"
     },
     "user_tz": -240
    },
    "id": "QAqfY8ytCboJ"
   },
   "outputs": [],
   "source": [
    "tcomp = ct(rock_comp,oil_comp,wat_comp,init_swater)"
   ]
  },
  {
   "cell_type": "code",
   "execution_count": 19,
   "metadata": {
    "executionInfo": {
     "elapsed": 12,
     "status": "ok",
     "timestamp": 1711698444244,
     "user": {
      "displayName": "Javid Shiriyev",
      "userId": "04377657040188470328"
     },
     "user_tz": -240
    },
    "id": "T2U7EMvACldZ"
   },
   "outputs": [],
   "source": [
    "A = area*edge*rock_poro/tdelta"
   ]
  },
  {
   "cell_type": "code",
   "execution_count": 20,
   "metadata": {
    "executionInfo": {
     "elapsed": 12,
     "status": "ok",
     "timestamp": 1711698444244,
     "user": {
      "displayName": "Javid Shiriyev",
      "userId": "04377657040188470328"
     },
     "user_tz": -240
    },
    "id": "clmxf8A4DOGo"
   },
   "outputs": [],
   "source": [
    "Act = A*tcomp"
   ]
  },
  {
   "cell_type": "code",
   "execution_count": 21,
   "metadata": {
    "colab": {
     "base_uri": "https://localhost:8080/"
    },
    "executionInfo": {
     "elapsed": 12,
     "status": "ok",
     "timestamp": 1711698444244,
     "user": {
      "displayName": "Javid Shiriyev",
      "userId": "04377657040188470328"
     },
     "user_tz": -240
    },
    "id": "zprGwGEFDQ-g",
    "outputId": "c144f875-e288-4933-e1c0-a40d58a25506"
   },
   "outputs": [
    {
     "data": {
      "text/plain": [
       "36.800000000000004"
      ]
     },
     "execution_count": 21,
     "metadata": {},
     "output_type": "execute_result"
    }
   ],
   "source": [
    "Act"
   ]
  },
  {
   "cell_type": "code",
   "execution_count": 22,
   "metadata": {
    "executionInfo": {
     "elapsed": 11,
     "status": "ok",
     "timestamp": 1711698444244,
     "user": {
      "displayName": "Javid Shiriyev",
      "userId": "04377657040188470328"
     },
     "user_tz": -240
    },
    "id": "j_h9skbGI7rP"
   },
   "outputs": [],
   "source": [
    "Q = np.zeros((4,1))"
   ]
  },
  {
   "cell_type": "code",
   "execution_count": 23,
   "metadata": {
    "executionInfo": {
     "elapsed": 11,
     "status": "ok",
     "timestamp": 1711698444244,
     "user": {
      "displayName": "Javid Shiriyev",
      "userId": "04377657040188470328"
     },
     "user_tz": -240
    },
    "id": "OFcCbWY5GnW_"
   },
   "outputs": [],
   "source": [
    "Qw1 = 2000\n",
    "Qo1 = 0"
   ]
  },
  {
   "cell_type": "code",
   "execution_count": 24,
   "metadata": {
    "executionInfo": {
     "elapsed": 12,
     "status": "ok",
     "timestamp": 1711698444245,
     "user": {
      "displayName": "Javid Shiriyev",
      "userId": "04377657040188470328"
     },
     "user_tz": -240
    },
    "id": "iEjYCVfQJDXX"
   },
   "outputs": [],
   "source": [
    "Q[0,0] = Qw1+Qo1"
   ]
  },
  {
   "cell_type": "code",
   "execution_count": 25,
   "metadata": {
    "executionInfo": {
     "elapsed": 12,
     "status": "ok",
     "timestamp": 1711698444245,
     "user": {
      "displayName": "Javid Shiriyev",
      "userId": "04377657040188470328"
     },
     "user_tz": -240
    },
    "id": "DZdIJj6CDfMw"
   },
   "outputs": [],
   "source": [
    "Qw4 = Mw/(Mw+Mo)*(-2000)"
   ]
  },
  {
   "cell_type": "code",
   "execution_count": 26,
   "metadata": {
    "executionInfo": {
     "elapsed": 12,
     "status": "ok",
     "timestamp": 1711698444245,
     "user": {
      "displayName": "Javid Shiriyev",
      "userId": "04377657040188470328"
     },
     "user_tz": -240
    },
    "id": "15ACrK0vFBl4"
   },
   "outputs": [],
   "source": [
    "Qo4 = -2000-Qw4"
   ]
  },
  {
   "cell_type": "code",
   "execution_count": 27,
   "metadata": {
    "executionInfo": {
     "elapsed": 11,
     "status": "ok",
     "timestamp": 1711698444245,
     "user": {
      "displayName": "Javid Shiriyev",
      "userId": "04377657040188470328"
     },
     "user_tz": -240
    },
    "id": "RaeBW7eWJPFv"
   },
   "outputs": [],
   "source": [
    "Q[3,0] = Qw4+Qo4"
   ]
  },
  {
   "cell_type": "code",
   "execution_count": 28,
   "metadata": {
    "colab": {
     "base_uri": "https://localhost:8080/"
    },
    "executionInfo": {
     "elapsed": 11,
     "status": "ok",
     "timestamp": 1711698444245,
     "user": {
      "displayName": "Javid Shiriyev",
      "userId": "04377657040188470328"
     },
     "user_tz": -240
    },
    "id": "PL6Sq5XmFecn",
    "outputId": "2bcdd9ee-b42f-4986-9ce7-8636d518bfe8"
   },
   "outputs": [
    {
     "data": {
      "text/plain": [
       "-105.26315789473688"
      ]
     },
     "execution_count": 28,
     "metadata": {},
     "output_type": "execute_result"
    }
   ],
   "source": [
    "Qw4"
   ]
  },
  {
   "cell_type": "code",
   "execution_count": 29,
   "metadata": {
    "colab": {
     "base_uri": "https://localhost:8080/"
    },
    "executionInfo": {
     "elapsed": 11,
     "status": "ok",
     "timestamp": 1711698444245,
     "user": {
      "displayName": "Javid Shiriyev",
      "userId": "04377657040188470328"
     },
     "user_tz": -240
    },
    "id": "LxBSgenXGaXA",
    "outputId": "e0e06006-d8be-41e7-8cff-8b6845fcf7ff"
   },
   "outputs": [
    {
     "data": {
      "text/plain": [
       "-1894.7368421052631"
      ]
     },
     "execution_count": 29,
     "metadata": {},
     "output_type": "execute_result"
    }
   ],
   "source": [
    "Qo4"
   ]
  },
  {
   "cell_type": "code",
   "execution_count": 30,
   "metadata": {
    "colab": {
     "base_uri": "https://localhost:8080/"
    },
    "executionInfo": {
     "elapsed": 10,
     "status": "ok",
     "timestamp": 1711698444245,
     "user": {
      "displayName": "Javid Shiriyev",
      "userId": "04377657040188470328"
     },
     "user_tz": -240
    },
    "id": "WDG6L6VPJW6v",
    "outputId": "c32f984d-ead9-4c74-ee0d-fc9ea20ed44a"
   },
   "outputs": [
    {
     "data": {
      "text/plain": [
       "array([[ 2000.],\n",
       "       [    0.],\n",
       "       [    0.],\n",
       "       [-2000.]])"
      ]
     },
     "execution_count": 30,
     "metadata": {},
     "output_type": "execute_result"
    }
   ],
   "source": [
    "Q"
   ]
  },
  {
   "cell_type": "code",
   "execution_count": 31,
   "metadata": {
    "executionInfo": {
     "elapsed": 9,
     "status": "ok",
     "timestamp": 1711698444245,
     "user": {
      "displayName": "Javid Shiriyev",
      "userId": "04377657040188470328"
     },
     "user_tz": -240
    },
    "id": "CkN1CFEzIeM_"
   },
   "outputs": [],
   "source": [
    "trans = np.zeros((4,4))\n",
    "diag = np.zeros((4,4))"
   ]
  },
  {
   "cell_type": "code",
   "execution_count": 32,
   "metadata": {
    "executionInfo": {
     "elapsed": 9,
     "status": "ok",
     "timestamp": 1711698444245,
     "user": {
      "displayName": "Javid Shiriyev",
      "userId": "04377657040188470328"
     },
     "user_tz": -240
    },
    "id": "HLHE94j5GbL_"
   },
   "outputs": [],
   "source": [
    "for i in range(4):\n",
    "  if i == 0:\n",
    "    trans[i,i] = 1\n",
    "    trans[i,i+1] = -1\n",
    "  elif i == 3:\n",
    "    trans[i,i] = 1\n",
    "    trans[i,i-1] = -1\n",
    "  else:\n",
    "    trans[i,i] = 2\n",
    "    trans[i,i+1] = -1\n",
    "    trans[i,i-1] = -1\n",
    "  diag[i,i] = 1"
   ]
  },
  {
   "cell_type": "code",
   "execution_count": 33,
   "metadata": {
    "colab": {
     "base_uri": "https://localhost:8080/"
    },
    "executionInfo": {
     "elapsed": 9,
     "status": "ok",
     "timestamp": 1711698444245,
     "user": {
      "displayName": "Javid Shiriyev",
      "userId": "04377657040188470328"
     },
     "user_tz": -240
    },
    "id": "v_VqXTIWIcsI",
    "outputId": "e6a9eafd-0c57-43cb-dd41-504fb3683a9b"
   },
   "outputs": [
    {
     "data": {
      "text/plain": [
       "array([[1., 0., 0., 0.],\n",
       "       [0., 1., 0., 0.],\n",
       "       [0., 0., 1., 0.],\n",
       "       [0., 0., 0., 1.]])"
      ]
     },
     "execution_count": 33,
     "metadata": {},
     "output_type": "execute_result"
    }
   ],
   "source": [
    "diag"
   ]
  },
  {
   "cell_type": "code",
   "execution_count": 34,
   "metadata": {
    "executionInfo": {
     "elapsed": 8,
     "status": "ok",
     "timestamp": 1711698444245,
     "user": {
      "displayName": "Javid Shiriyev",
      "userId": "04377657040188470328"
     },
     "user_tz": -240
    },
    "id": "Dsux0QD4Ig7X"
   },
   "outputs": [],
   "source": [
    "P = np.array([3000,3000,3000,3000]).reshape((-1,1))"
   ]
  },
  {
   "cell_type": "code",
   "execution_count": 35,
   "metadata": {
    "colab": {
     "base_uri": "https://localhost:8080/"
    },
    "executionInfo": {
     "elapsed": 8,
     "status": "ok",
     "timestamp": 1711698444245,
     "user": {
      "displayName": "Javid Shiriyev",
      "userId": "04377657040188470328"
     },
     "user_tz": -240
    },
    "id": "60YZvDH3JpZn",
    "outputId": "ceeaa0d3-df19-40d6-c9a7-a640c0dfe733"
   },
   "outputs": [
    {
     "data": {
      "text/plain": [
       "array([[3000],\n",
       "       [3000],\n",
       "       [3000],\n",
       "       [3000]])"
      ]
     },
     "execution_count": 35,
     "metadata": {},
     "output_type": "execute_result"
    }
   ],
   "source": [
    "P"
   ]
  },
  {
   "cell_type": "code",
   "execution_count": 36,
   "metadata": {
    "executionInfo": {
     "elapsed": 7,
     "status": "ok",
     "timestamp": 1711698444245,
     "user": {
      "displayName": "Javid Shiriyev",
      "userId": "04377657040188470328"
     },
     "user_tz": -240
    },
    "id": "XJi-volvJx7n"
   },
   "outputs": [],
   "source": [
    "LHS = T*trans+Act*diag"
   ]
  },
  {
   "cell_type": "code",
   "execution_count": 37,
   "metadata": {
    "colab": {
     "base_uri": "https://localhost:8080/"
    },
    "executionInfo": {
     "elapsed": 8,
     "status": "ok",
     "timestamp": 1711698444246,
     "user": {
      "displayName": "Javid Shiriyev",
      "userId": "04377657040188470328"
     },
     "user_tz": -240
    },
    "id": "I4TRsmktKFzP",
    "outputId": "f1335619-c5c7-4390-d1b4-b125c21a4021"
   },
   "outputs": [
    {
     "data": {
      "text/plain": [
       "array([[38.76312477, -1.96312477,  0.        ,  0.        ],\n",
       "       [-1.96312477, 40.72624954, -1.96312477,  0.        ],\n",
       "       [ 0.        , -1.96312477, 40.72624954, -1.96312477],\n",
       "       [ 0.        ,  0.        , -1.96312477, 38.76312477]])"
      ]
     },
     "execution_count": 37,
     "metadata": {},
     "output_type": "execute_result"
    }
   ],
   "source": [
    "LHS"
   ]
  },
  {
   "cell_type": "code",
   "execution_count": 41,
   "metadata": {
    "executionInfo": {
     "elapsed": 2,
     "status": "ok",
     "timestamp": 1711698566472,
     "user": {
      "displayName": "Javid Shiriyev",
      "userId": "04377657040188470328"
     },
     "user_tz": -240
    },
    "id": "naPW2nToKG8u"
   },
   "outputs": [],
   "source": [
    "RHS = np.matmul(Act*diag,P)+Q"
   ]
  },
  {
   "cell_type": "code",
   "execution_count": 42,
   "metadata": {
    "colab": {
     "base_uri": "https://localhost:8080/"
    },
    "executionInfo": {
     "elapsed": 329,
     "status": "ok",
     "timestamp": 1711698568040,
     "user": {
      "displayName": "Javid Shiriyev",
      "userId": "04377657040188470328"
     },
     "user_tz": -240
    },
    "id": "A4197uSELqyv",
    "outputId": "d01d7b96-4520-46d2-8b15-26a4e7bd96a7"
   },
   "outputs": [
    {
     "data": {
      "text/plain": [
       "array([[112400.],\n",
       "       [110400.],\n",
       "       [110400.],\n",
       "       [108400.]])"
      ]
     },
     "execution_count": 42,
     "metadata": {},
     "output_type": "execute_result"
    }
   ],
   "source": [
    "RHS"
   ]
  },
  {
   "cell_type": "code",
   "execution_count": 43,
   "metadata": {
    "colab": {
     "base_uri": "https://localhost:8080/"
    },
    "executionInfo": {
     "elapsed": 2,
     "status": "ok",
     "timestamp": 1711698569109,
     "user": {
      "displayName": "Javid Shiriyev",
      "userId": "04377657040188470328"
     },
     "user_tz": -240
    },
    "id": "qMvvpdg2LrnW",
    "outputId": "4608c68e-1f43-4ec8-d17c-a7c87352716e"
   },
   "outputs": [
    {
     "data": {
      "text/plain": [
       "array([[3051.71587053],\n",
       "       [3002.37821959],\n",
       "       [2997.62178041],\n",
       "       [2948.28412947]])"
      ]
     },
     "execution_count": 43,
     "metadata": {},
     "output_type": "execute_result"
    }
   ],
   "source": [
    "np.linalg.solve(LHS,RHS)"
   ]
  },
  {
   "cell_type": "code",
   "execution_count": null,
   "metadata": {
    "id": "GA-8fEMDLyfd"
   },
   "outputs": [],
   "source": []
  }
 ],
 "metadata": {
  "colab": {
   "authorship_tag": "ABX9TyOibz7hJLBpmQGH/Cdsy55x",
   "provenance": []
  },
  "kernelspec": {
   "display_name": "Python 3 (ipykernel)",
   "language": "python",
   "name": "python3"
  },
  "language_info": {
   "codemirror_mode": {
    "name": "ipython",
    "version": 3
   },
   "file_extension": ".py",
   "mimetype": "text/x-python",
   "name": "python",
   "nbconvert_exporter": "python",
   "pygments_lexer": "ipython3",
   "version": "3.12.0"
  }
 },
 "nbformat": 4,
 "nbformat_minor": 4
}
