{
 "cells": [
  {
   "cell_type": "markdown",
   "metadata": {
    "executionInfo": {
     "elapsed": 11,
     "status": "ok",
     "timestamp": 1710484353272,
     "user": {
      "displayName": "Javid Shiriyev",
      "userId": "04377657040188470328"
     },
     "user_tz": -240
    },
    "id": "qKZ9kvnvls4z"
   },
   "source": [
    "import numpy as np\n",
    "import matplotlib.pyplot as plt"
   ]
  },
  {
   "cell_type": "markdown",
   "metadata": {},
   "source": [
    "## Grid Properties"
   ]
  },
  {
   "cell_type": "code",
   "execution_count": 2,
   "metadata": {
    "executionInfo": {
     "elapsed": 11,
     "status": "ok",
     "timestamp": 1710484353273,
     "user": {
      "displayName": "Javid Shiriyev",
      "userId": "04377657040188470328"
     },
     "user_tz": -240
    },
    "id": "nalL2JXHl0g9"
   },
   "outputs": [],
   "source": [
    "edge = 0.25\n",
    "area = 0.02"
   ]
  },
  {
   "cell_type": "markdown",
   "metadata": {},
   "source": [
    "## Reservoir Properties"
   ]
  },
  {
   "cell_type": "code",
   "execution_count": 3,
   "metadata": {},
   "outputs": [],
   "source": [
    "poro = 0.2\n",
    "perm = 50.0"
   ]
  },
  {
   "cell_type": "markdown",
   "metadata": {},
   "source": [
    "## Fluid Properties"
   ]
  },
  {
   "cell_type": "code",
   "execution_count": 4,
   "metadata": {},
   "outputs": [],
   "source": [
    "visc = 0.01"
   ]
  },
  {
   "cell_type": "markdown",
   "metadata": {},
   "source": [
    "## Boundary Conditions"
   ]
  },
  {
   "cell_type": "code",
   "execution_count": 5,
   "metadata": {
    "executionInfo": {
     "elapsed": 10,
     "status": "ok",
     "timestamp": 1710484353273,
     "user": {
      "displayName": "Javid Shiriyev",
      "userId": "04377657040188470328"
     },
     "user_tz": -240
    },
    "id": "-l_U6KAwqWo7"
   },
   "outputs": [],
   "source": [
    "pL = 200\n",
    "pR = 14.7"
   ]
  },
  {
   "cell_type": "markdown",
   "metadata": {},
   "source": [
    "## Numerical Parameters"
   ]
  },
  {
   "cell_type": "code",
   "execution_count": 6,
   "metadata": {},
   "outputs": [],
   "source": [
    "ngrid = 4\n",
    "tstep = 1e-5 # days\n",
    "nstep = 3"
   ]
  },
  {
   "cell_type": "markdown",
   "metadata": {},
   "source": [
    "# Matrix Construction"
   ]
  },
  {
   "cell_type": "code",
   "execution_count": 7,
   "metadata": {},
   "outputs": [],
   "source": [
    "conv = 1.06235016e-14*(24*60*60)/1.45e-7"
   ]
  },
  {
   "cell_type": "code",
   "execution_count": 8,
   "metadata": {
    "executionInfo": {
     "elapsed": 9,
     "status": "ok",
     "timestamp": 1710484353274,
     "user": {
      "displayName": "Javid Shiriyev",
      "userId": "04377657040188470328"
     },
     "user_tz": -240
    },
    "id": "wbCcG5ARmx0B"
   },
   "outputs": [],
   "source": [
    "trans = conv*(perm*area)/(visc*edge)"
   ]
  },
  {
   "cell_type": "code",
   "execution_count": 9,
   "metadata": {
    "executionInfo": {
     "elapsed": 282,
     "status": "ok",
     "timestamp": 1710485549770,
     "user": {
      "displayName": "Javid Shiriyev",
      "userId": "04377657040188470328"
     },
     "user_tz": -240
    },
    "id": "svR3YGsu4fEt"
   },
   "outputs": [],
   "source": [
    "T = np.zeros((ngrid,ngrid))\n",
    "S = np.zeros((ngrid,1))\n",
    "J = np.zeros((ngrid,ngrid))\n",
    "Q = np.zeros((ngrid,1))"
   ]
  },
  {
   "cell_type": "code",
   "execution_count": 10,
   "metadata": {
    "executionInfo": {
     "elapsed": 8,
     "status": "ok",
     "timestamp": 1710484353274,
     "user": {
      "displayName": "Javid Shiriyev",
      "userId": "04377657040188470328"
     },
     "user_tz": -240
    },
    "id": "xS7DsF6ymygj"
   },
   "outputs": [],
   "source": [
    "for i in range(ngrid):\n",
    "  if i==0:\n",
    "    T[i,i] = trans\n",
    "    T[i,i+1] = -trans\n",
    "    J[i,i] = 2*trans\n",
    "    Q[i,0] = 2*trans*pL\n",
    "  elif i==ngrid-1:\n",
    "    T[i,i] = trans\n",
    "    T[i,i-1] = -trans\n",
    "    J[i,i] = 2*trans\n",
    "    Q[i,0] = 2*trans*pR\n",
    "  else:\n",
    "    T[i,i] = 2*trans\n",
    "    T[i,i+1] = -trans\n",
    "    T[i,i-1] = -trans\n",
    "  S[i,0] = area*edge*poro"
   ]
  },
  {
   "cell_type": "code",
   "execution_count": 11,
   "metadata": {},
   "outputs": [
    {
     "data": {
      "text/plain": [
       "array([[1012.82266289],\n",
       "       [   0.        ],\n",
       "       [   0.        ],\n",
       "       [  74.44246572]])"
      ]
     },
     "execution_count": 11,
     "metadata": {},
     "output_type": "execute_result"
    }
   ],
   "source": [
    "Q"
   ]
  },
  {
   "cell_type": "markdown",
   "metadata": {},
   "source": [
    "# Implicit Pressure Calculation"
   ]
  },
  {
   "cell_type": "code",
   "execution_count": 12,
   "metadata": {
    "executionInfo": {
     "elapsed": 4,
     "status": "ok",
     "timestamp": 1710485808908,
     "user": {
      "displayName": "Javid Shiriyev",
      "userId": "04377657040188470328"
     },
     "user_tz": -240
    },
    "id": "ZVWSMoY048Am"
   },
   "outputs": [],
   "source": [
    "def pressure(dt,P,Pk):\n",
    "    Act = S/(dt*Pk)\n",
    "    Act = np.diag(Act.flatten())\n",
    "    LHS = (T+J+Act)\n",
    "    RHS = np.matmul(Act,P)+Q\n",
    "    return np.linalg.solve(LHS,RHS)"
   ]
  },
  {
   "cell_type": "markdown",
   "metadata": {},
   "source": [
    "# Residual Calculation"
   ]
  },
  {
   "cell_type": "code",
   "execution_count": 13,
   "metadata": {
    "executionInfo": {
     "elapsed": 304,
     "status": "ok",
     "timestamp": 1710485069951,
     "user": {
      "displayName": "Javid Shiriyev",
      "userId": "04377657040188470328"
     },
     "user_tz": -240
    },
    "id": "VHdOrOuLryVI"
   },
   "outputs": [],
   "source": [
    "def residual(dt,P,Pk):\n",
    "    Act = S/(dt*Pk)\n",
    "    Act = np.diag(Act.flatten())\n",
    "    return -np.matmul((T+J+Act),Pk)+np.matmul(Act,P)+Q"
   ]
  },
  {
   "cell_type": "markdown",
   "metadata": {},
   "source": [
    "# Picard Method"
   ]
  },
  {
   "cell_type": "code",
   "execution_count": 14,
   "metadata": {
    "executionInfo": {
     "elapsed": 299,
     "status": "ok",
     "timestamp": 1710485138640,
     "user": {
      "displayName": "Javid Shiriyev",
      "userId": "04377657040188470328"
     },
     "user_tz": -240
    },
    "id": "78IvnJ3Pw4UO"
   },
   "outputs": [],
   "source": [
    "P0 = np.array([14.7,14.7,14.7,14.7]).reshape((-1,1))"
   ]
  },
  {
   "cell_type": "code",
   "execution_count": 15,
   "metadata": {
    "colab": {
     "base_uri": "https://localhost:8080/"
    },
    "executionInfo": {
     "elapsed": 5,
     "status": "ok",
     "timestamp": 1710487204419,
     "user": {
      "displayName": "Javid Shiriyev",
      "userId": "04377657040188470328"
     },
     "user_tz": -240
    },
    "id": "qXJbiyKp2Sn0",
    "outputId": "553b0f90-b11c-4358-b023-a7a7499a3b0f"
   },
   "outputs": [
    {
     "name": "stdout",
     "output_type": "stream",
     "text": [
      "         0 [146.50848423  75.05643148  35.36304269  18.74622242]\n",
      "         1 [167.38488971 107.08034753  58.58692986  25.74878913]\n",
      "         2 [173.05285569 120.45209273  72.23563037  31.48135999]\n"
     ]
    }
   ],
   "source": [
    "P = P0.copy()\n",
    "\n",
    "for t in range(nstep):\n",
    "    Pk = np.copy(P)\n",
    "    # print(f\"TIME STEP - {t+1}\")\n",
    "    for k in range(100):\n",
    "        F = residual(tstep,P,Pk)\n",
    "        Pk = pressure(tstep,P,Pk)\n",
    "        error = np.linalg.norm(F,2)\n",
    "        # print(f\"{k:2}\",f\"{error:.5e}\",Pk.flatten())\n",
    "        if np.linalg.norm(F,2)<1e-6:\n",
    "            break\n",
    "    P = np.copy(Pk)\n",
    "    print(f\"{t:10}\",P.flatten())"
   ]
  },
  {
   "cell_type": "code",
   "execution_count": 16,
   "metadata": {},
   "outputs": [],
   "source": [
    "Ppicard = P"
   ]
  },
  {
   "cell_type": "markdown",
   "metadata": {},
   "source": [
    "# Jacobian Calculation (Ideal Gas)"
   ]
  },
  {
   "cell_type": "code",
   "execution_count": 17,
   "metadata": {},
   "outputs": [],
   "source": [
    "def jacobian(dt,P,Pk):\n",
    "    Act = S.flatten()/(dt*Pk.flatten())\n",
    "    dia = P.flatten()/Pk.flatten()\n",
    "    return -(T+J)-np.diag(Act*dia)"
   ]
  },
  {
   "cell_type": "code",
   "execution_count": 18,
   "metadata": {},
   "outputs": [
    {
     "data": {
      "text/plain": [
       "array([[-14.39889106,   2.53205666,  -0.        ,  -0.        ],\n",
       "       [  2.53205666, -11.8668344 ,   2.53205666,  -0.        ],\n",
       "       [ -0.        ,   2.53205666, -11.8668344 ,   2.53205666],\n",
       "       [ -0.        ,  -0.        ,   2.53205666, -14.39889106]])"
      ]
     },
     "execution_count": 18,
     "metadata": {},
     "output_type": "execute_result"
    }
   ],
   "source": [
    "jacobian(tstep,P0,P0)"
   ]
  },
  {
   "cell_type": "markdown",
   "metadata": {},
   "source": [
    "# Newton's Method"
   ]
  },
  {
   "cell_type": "code",
   "execution_count": 19,
   "metadata": {},
   "outputs": [],
   "source": [
    "P0 = np.array([14.7,14.7,14.7,14.7]).reshape((-1,1))"
   ]
  },
  {
   "cell_type": "code",
   "execution_count": 20,
   "metadata": {
    "id": "FkDZPCKi6sDu"
   },
   "outputs": [
    {
     "name": "stdout",
     "output_type": "stream",
     "text": [
      "         0 [146.50848426  75.05643156  35.36304276  18.74622244]\n",
      "         1 [167.38488973 107.08034759  58.58692993  25.74878916]\n",
      "         2 [173.0528557  120.45209276  72.23563041  31.48136001]\n"
     ]
    }
   ],
   "source": [
    "P = P0.copy()\n",
    "\n",
    "for t in range(nstep):\n",
    "    Pk = np.copy(P)\n",
    "    # print(f\"TIME STEP - {t+1}\")\n",
    "    for k in range(100):\n",
    "        F = residual(tstep,P,Pk)\n",
    "        Z = jacobian(tstep,P,Pk)\n",
    "        Pk += np.linalg.solve(Z,-F)\n",
    "        error = np.linalg.norm(F,2)\n",
    "        # print(f\"{k:2}\",f\"{error:.5e}\",Pk.flatten())\n",
    "        if np.linalg.norm(F,2)<1e-6:\n",
    "            break\n",
    "    P = np.copy(Pk)\n",
    "    print(f\"{t:10}\",P.flatten())"
   ]
  },
  {
   "cell_type": "code",
   "execution_count": 21,
   "metadata": {},
   "outputs": [],
   "source": [
    "Pnewton = P"
   ]
  },
  {
   "cell_type": "markdown",
   "metadata": {},
   "source": [
    "# Plotting"
   ]
  },
  {
   "cell_type": "code",
   "execution_count": 24,
   "metadata": {},
   "outputs": [],
   "source": [
    "xcenter = [edge*i+edge/2 for i in range(ngrid)]"
   ]
  },
  {
   "cell_type": "code",
   "execution_count": 25,
   "metadata": {},
   "outputs": [
    {
     "data": {
      "text/plain": [
       "[0.125, 0.375, 0.625, 0.875]"
      ]
     },
     "execution_count": 25,
     "metadata": {},
     "output_type": "execute_result"
    }
   ],
   "source": [
    "xcenter"
   ]
  },
  {
   "cell_type": "code",
   "execution_count": 31,
   "metadata": {},
   "outputs": [
    {
     "data": {
      "image/png": "[encoded data removed]",
      "text/plain": [
       "<Figure size 640x480 with 1 Axes>"
      ]
     },
     "metadata": {},
     "output_type": "display_data"
    }
   ],
   "source": [
    "plt.scatter(xcenter,P0,c='k',s=20)\n",
    "plt.scatter(xcenter,Ppicard,s=20)\n",
    "plt.scatter(xcenter,Pnewton,s=10)\n",
    "\n",
    "plt.ylabel(\"pressure, psi\")\n",
    "plt.xlabel(\"center of grids\")\n",
    "\n",
    "plt.show()"
   ]
  },
  {
   "cell_type": "code",
   "execution_count": null,
   "metadata": {},
   "outputs": [],
   "source": []
  }
 ],
 "metadata": {
  "colab": {
   "authorship_tag": "ABX9TyMTALu6ooWh/lDrnRfUQHb6",
   "provenance": []
  },
  "kernelspec": {
   "display_name": "Python 3 (ipykernel)",
   "language": "python",
   "name": "python3"
  },
  "language_info": {
   "codemirror_mode": {
    "name": "ipython",
    "version": 3
   },
   "file_extension": ".py",
   "mimetype": "text/x-python",
   "name": "python",
   "nbconvert_exporter": "python",
   "pygments_lexer": "ipython3",
   "version": "3.10.9"
  }
 },
 "nbformat": 4,
 "nbformat_minor": 4
}
