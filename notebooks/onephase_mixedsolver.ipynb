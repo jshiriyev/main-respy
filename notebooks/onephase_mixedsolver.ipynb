{
 "cells": [
  {
   "cell_type": "code",
   "execution_count": 1,
   "id": "85eac284-bac7-415d-bc3b-099d6d82dbf8",
   "metadata": {},
   "outputs": [],
   "source": [
    "import matplotlib.pyplot as plt\n",
    "import numpy as np"
   ]
  },
  {
   "cell_type": "code",
   "execution_count": 2,
   "id": "6333fc24-9dba-4374-8c5e-f53055796169",
   "metadata": {},
   "outputs": [],
   "source": [
    "import sys\n",
    "sys.path.append(r'C:\\Users\\javid.shiriyev\\Documents\\respy')"
   ]
  },
  {
   "cell_type": "code",
   "execution_count": 3,
   "id": "c02c7987-31c5-4c08-b7b0-3503eb16096d",
   "metadata": {},
   "outputs": [],
   "source": [
    "from _grids import RecCuboid"
   ]
  },
  {
   "cell_type": "code",
   "execution_count": 4,
   "id": "47e63977-afd9-4046-a222-986e00747109",
   "metadata": {},
   "outputs": [],
   "source": [
    "from onephase import MixedSolver"
   ]
  },
  {
   "cell_type": "markdown",
   "id": "c6484bc4-84cd-4fc2-a6c9-d1cdbf8700ff",
   "metadata": {},
   "source": [
    "# Creating Grids"
   ]
  },
  {
   "cell_type": "code",
   "execution_count": 5,
   "id": "b7a63dcc-da7c-4dda-bddb-831e6caaed58",
   "metadata": {},
   "outputs": [],
   "source": [
    "grid = RecCuboid((750,1000,1250),(750,1000,1250),(20,))"
   ]
  },
  {
   "cell_type": "code",
   "execution_count": 6,
   "id": "d443544c-ba60-4de4-8b82-3d904db39a78",
   "metadata": {},
   "outputs": [
    {
     "data": {
      "text/plain": [
       "array([[ 750.,  750.,   20.],\n",
       "       [1000.,  750.,   20.],\n",
       "       [1250.,  750.,   20.],\n",
       "       [ 750., 1000.,   20.],\n",
       "       [1000., 1000.,   20.],\n",
       "       [1250., 1000.,   20.],\n",
       "       [ 750., 1250.,   20.],\n",
       "       [1000., 1250.,   20.],\n",
       "       [1250., 1250.,   20.]])"
      ]
     },
     "execution_count": 6,
     "metadata": {},
     "output_type": "execute_result"
    }
   ],
   "source": [
    "grid.size"
   ]
  },
  {
   "cell_type": "code",
   "execution_count": 7,
   "id": "970c722d-df23-464f-ae1a-106f4f10f5c0",
   "metadata": {},
   "outputs": [],
   "source": [
    "grid.set_porosity((0.15,0.18,0.20,0.17,0.20,0.22,0.22,0.25,0.26))"
   ]
  },
  {
   "cell_type": "code",
   "execution_count": 8,
   "id": "c08abd83-0d14-413b-b912-f595cfeb3ae8",
   "metadata": {},
   "outputs": [
    {
     "data": {
      "text/plain": [
       "array([[0.15],\n",
       "       [0.18],\n",
       "       [0.2 ],\n",
       "       [0.17],\n",
       "       [0.2 ],\n",
       "       [0.22],\n",
       "       [0.22],\n",
       "       [0.25],\n",
       "       [0.26]])"
      ]
     },
     "execution_count": 8,
     "metadata": {},
     "output_type": "execute_result"
    }
   ],
   "source": [
    "grid.poro"
   ]
  },
  {
   "cell_type": "code",
   "execution_count": 9,
   "id": "a88bd88d-ee32-42af-8457-746348067b20",
   "metadata": {},
   "outputs": [],
   "source": [
    "grid.set_permeability((50,100,200,100,150,250,150,200,300),yreduce=0.5,zreduce=0.1)"
   ]
  },
  {
   "cell_type": "code",
   "execution_count": 10,
   "id": "c878658e-5323-4e0e-a4db-9625b7028f4c",
   "metadata": {},
   "outputs": [
    {
     "data": {
      "text/plain": [
       "array([[ 50.,  25.,   5.],\n",
       "       [100.,  50.,  10.],\n",
       "       [200., 100.,  20.],\n",
       "       [100.,  50.,  10.],\n",
       "       [150.,  75.,  15.],\n",
       "       [250., 125.,  25.],\n",
       "       [150.,  75.,  15.],\n",
       "       [200., 100.,  20.],\n",
       "       [300., 150.,  30.]])"
      ]
     },
     "execution_count": 10,
     "metadata": {},
     "output_type": "execute_result"
    }
   ],
   "source": [
    "grid.perm"
   ]
  },
  {
   "cell_type": "markdown",
   "id": "99063af3-7b0b-42f8-9089-bc05865df024",
   "metadata": {},
   "source": [
    "# Fluid Properties"
   ]
  },
  {
   "cell_type": "code",
   "execution_count": 11,
   "id": "9373e784-64df-422c-ac41-ea1d0691fdb4",
   "metadata": {},
   "outputs": [],
   "source": [
    "class fluid():\n",
    "    \n",
    "    def __init__(self,viscosity):\n",
    "        \"\"\"viscosity in cp\"\"\"\n",
    "        self._viscosity = viscosity*0.001\n",
    "        \n",
    "    @property\n",
    "    def viscosity(self):\n",
    "        return self._viscosity/0.001"
   ]
  },
  {
   "cell_type": "code",
   "execution_count": 12,
   "id": "eacaf2d3-249f-40a6-adab-7192d6908e2e",
   "metadata": {},
   "outputs": [],
   "source": [
    "oil = fluid(5)"
   ]
  },
  {
   "cell_type": "markdown",
   "id": "54824e2a-9699-470f-9297-440fd94d234c",
   "metadata": {},
   "source": [
    "# Mixed Solver"
   ]
  },
  {
   "cell_type": "code",
   "execution_count": 13,
   "id": "0d2749e5-3afa-4fea-a371-1d928f325ed0",
   "metadata": {},
   "outputs": [],
   "source": [
    "solver = MixedSolver(grid,oil)"
   ]
  },
  {
   "cell_type": "code",
   "execution_count": 14,
   "id": "4e27ec36-c206-4cf8-9153-8945351da9a1",
   "metadata": {},
   "outputs": [],
   "source": [
    "solver.set_Tmatrix()"
   ]
  },
  {
   "cell_type": "code",
   "execution_count": 15,
   "id": "cd3749c4-08ea-4b2d-9262-1f089afdd7ad",
   "metadata": {},
   "outputs": [
    {
     "data": {
      "text/plain": [
       "array([[1.26565812, 1.51878975, 0.63282906, 0.75939487],\n",
       "       [1.51878975, 2.33659961, 1.68754416, 1.78681147],\n",
       "       [2.33659961, 3.03757949, 4.2188604 , 4.08276813],\n",
       "       [3.37508832, 3.57362293, 0.75939487, 1.03553846],\n",
       "       [3.57362293, 4.33939927, 1.78681147, 1.9597287 ],\n",
       "       [4.33939927, 5.06263248, 4.08276813, 3.87446364],\n",
       "       [6.32829061, 6.32829061, 1.03553846, 1.13909231],\n",
       "       [6.32829061, 6.90358975, 1.9597287 , 2.02505299],\n",
       "       [6.90358975, 7.59394873, 3.87446364, 3.79697436]])"
      ]
     },
     "execution_count": 15,
     "metadata": {},
     "output_type": "execute_result"
    }
   ],
   "source": [
    "solver.tclass.array(oil)*24*60*60*6894.76*3.28084**3"
   ]
  },
  {
   "cell_type": "code",
   "execution_count": 16,
   "id": "2af8cdcd-6dbd-41bf-aa7e-72259d7a99ca",
   "metadata": {},
   "outputs": [
    {
     "data": {
      "text/plain": [
       "matrix([[ 2.27818462, -1.51878975,  0.        , -0.75939487,  0.        ,\n",
       "          0.        ,  0.        ,  0.        ,  0.        ],\n",
       "        [-1.51878975,  5.64220082, -2.33659961,  0.        , -1.78681147,\n",
       "          0.        ,  0.        ,  0.        ,  0.        ],\n",
       "        [ 0.        , -2.33659961,  6.41936774,  0.        ,  0.        ,\n",
       "         -4.08276813,  0.        ,  0.        ,  0.        ],\n",
       "        [-0.75939487,  0.        ,  0.        ,  5.36855627, -3.57362293,\n",
       "          0.        , -1.03553846,  0.        ,  0.        ],\n",
       "        [ 0.        , -1.78681147,  0.        , -3.57362293, 11.65956237,\n",
       "         -4.33939927,  0.        , -1.9597287 ,  0.        ],\n",
       "        [ 0.        ,  0.        , -4.08276813,  0.        , -4.33939927,\n",
       "         12.29663104,  0.        ,  0.        , -3.87446364],\n",
       "        [ 0.        ,  0.        ,  0.        , -1.03553846,  0.        ,\n",
       "          0.        ,  7.36382907, -6.32829061,  0.        ],\n",
       "        [ 0.        ,  0.        ,  0.        ,  0.        , -1.9597287 ,\n",
       "          0.        , -6.32829061, 15.19160906, -6.90358975],\n",
       "        [ 0.        ,  0.        ,  0.        ,  0.        ,  0.        ,\n",
       "         -3.87446364,  0.        , -6.90358975, 10.77805339]])"
      ]
     },
     "execution_count": 16,
     "metadata": {},
     "output_type": "execute_result"
    }
   ],
   "source": [
    "solver.T.todense()"
   ]
  },
  {
   "cell_type": "code",
   "execution_count": null,
   "id": "35efcf77-acd7-487a-9ff5-7b4a4896fb0e",
   "metadata": {},
   "outputs": [],
   "source": []
  }
 ],
 "metadata": {
  "kernelspec": {
   "display_name": "Python 3 (ipykernel)",
   "language": "python",
   "name": "python3"
  },
  "language_info": {
   "codemirror_mode": {
    "name": "ipython",
    "version": 3
   },
   "file_extension": ".py",
   "mimetype": "text/x-python",
   "name": "python",
   "nbconvert_exporter": "python",
   "pygments_lexer": "ipython3",
   "version": "3.11.2"
  }
 },
 "nbformat": 4,
 "nbformat_minor": 5
}
